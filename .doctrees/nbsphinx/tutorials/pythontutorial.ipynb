{
 "cells": [
  {
   "cell_type": "markdown",
   "metadata": {},
   "source": [
    "# Introduction to Python"
   ]
  },
  {
   "cell_type": "markdown",
   "metadata": {},
   "source": [
    "This page demonstrates some basic Python concepts and essentials. See the <a class=\"reference external\" href=\"http://docs.python.org/tutorial/index.html\">Python Tutorial</a> and <a class=\"reference external\" href=\"http://docs.python.org/library/index.html\">Reference</a> for more exhaustive resources.\n",
    "<p>This page provides a brief introduction to:</p>\n",
    "<ul class=\"simple\">\n",
    "<li>Python syntax</li>\n",
    "<li>Variables</li>\n",
    "<li>Lists and Dicts</li>\n",
    "<li>For loops and iterators</li>\n",
    "<li>Functions</li>\n",
    "<li>Classes</li>\n",
    "<li>Importing modules</li>\n",
    "<li>Writing and reading files with Pickling.</li>\n",
    "</ul>"
   ]
  },
  {
   "cell_type": "markdown",
   "metadata": {},
   "source": [
    "## Displaying results"
   ]
  },
  {
   "cell_type": "markdown",
   "metadata": {},
   "source": [
    "The following command simply prints \"Hello world!\". Run it, and then re-evaluate with a different string."
   ]
  },
  {
   "cell_type": "code",
   "execution_count": 1,
   "metadata": {
    "execution": {
     "iopub.execute_input": "2022-03-17T01:30:12.009373Z",
     "iopub.status.busy": "2022-03-17T01:30:12.009137Z",
     "iopub.status.idle": "2022-03-17T01:30:12.016254Z",
     "shell.execute_reply": "2022-03-17T01:30:12.015738Z"
    }
   },
   "outputs": [
    {
     "name": "stdout",
     "output_type": "stream",
     "text": [
      "Hello world!\n"
     ]
    }
   ],
   "source": [
    "print(\"Hello world!\")"
   ]
  },
  {
   "cell_type": "markdown",
   "metadata": {},
   "source": [
    "Here <tt>print</tt> is a function that displays its input on the screen."
   ]
  },
  {
   "cell_type": "markdown",
   "metadata": {},
   "source": [
    "We can use a string's <tt>format</tt> method with <tt>{}</tt> placeholders to substitute calculated values into the output in specific locations; for example:"
   ]
  },
  {
   "cell_type": "code",
   "execution_count": 2,
   "metadata": {
    "execution": {
     "iopub.execute_input": "2022-03-17T01:30:12.019376Z",
     "iopub.status.busy": "2022-03-17T01:30:12.019043Z",
     "iopub.status.idle": "2022-03-17T01:30:12.022061Z",
     "shell.execute_reply": "2022-03-17T01:30:12.021550Z"
    }
   },
   "outputs": [
    {
     "name": "stdout",
     "output_type": "stream",
     "text": [
      "3 + 4 = 7. Amazing!\n"
     ]
    }
   ],
   "source": [
    "print(\"3 + 4 = {}. Amazing!\".format(3 + 4))"
   ]
  },
  {
   "cell_type": "markdown",
   "metadata": {},
   "source": [
    "Multiple values can be substituted:"
   ]
  },
  {
   "cell_type": "code",
   "execution_count": 3,
   "metadata": {
    "execution": {
     "iopub.execute_input": "2022-03-17T01:30:12.025120Z",
     "iopub.status.busy": "2022-03-17T01:30:12.024865Z",
     "iopub.status.idle": "2022-03-17T01:30:12.027953Z",
     "shell.execute_reply": "2022-03-17T01:30:12.027439Z"
    }
   },
   "outputs": [
    {
     "name": "stdout",
     "output_type": "stream",
     "text": [
      "The length of the apical dendrite is 100 microns.\n"
     ]
    }
   ],
   "source": [
    "print(\"The length of the {} is {} microns.\".format(\"apical dendrite\", 100))"
   ]
  },
  {
   "cell_type": "markdown",
   "metadata": {},
   "source": [
    "There are more sophisticated ways of using <tt>format</tt>\n",
    "(see <a class=\"reference external\" href=\"https://docs.python.org/3/library/string.html#format-examples\">examples</a> on the Python website)."
   ]
  },
  {
   "cell_type": "markdown",
   "metadata": {},
   "source": [
    "## Variables: Strings, numbers, and dynamic type casting"
   ]
  },
  {
   "cell_type": "markdown",
   "metadata": {},
   "source": [
    "Variables are easily assigned:"
   ]
  },
  {
   "cell_type": "code",
   "execution_count": 4,
   "metadata": {
    "execution": {
     "iopub.execute_input": "2022-03-17T01:30:12.030946Z",
     "iopub.status.busy": "2022-03-17T01:30:12.030797Z",
     "iopub.status.idle": "2022-03-17T01:30:12.033131Z",
     "shell.execute_reply": "2022-03-17T01:30:12.032638Z"
    }
   },
   "outputs": [],
   "source": [
    "my_name = \"Tom\"\n",
    "my_age = 45"
   ]
  },
  {
   "cell_type": "markdown",
   "metadata": {},
   "source": [
    "Let’s work with these variables."
   ]
  },
  {
   "cell_type": "code",
   "execution_count": 5,
   "metadata": {
    "execution": {
     "iopub.execute_input": "2022-03-17T01:30:12.035468Z",
     "iopub.status.busy": "2022-03-17T01:30:12.035145Z",
     "iopub.status.idle": "2022-03-17T01:30:12.037913Z",
     "shell.execute_reply": "2022-03-17T01:30:12.037491Z"
    }
   },
   "outputs": [
    {
     "name": "stdout",
     "output_type": "stream",
     "text": [
      "Tom\n"
     ]
    }
   ],
   "source": [
    "print(my_name)"
   ]
  },
  {
   "cell_type": "code",
   "execution_count": 6,
   "metadata": {
    "execution": {
     "iopub.execute_input": "2022-03-17T01:30:12.040462Z",
     "iopub.status.busy": "2022-03-17T01:30:12.040132Z",
     "iopub.status.idle": "2022-03-17T01:30:12.042904Z",
     "shell.execute_reply": "2022-03-17T01:30:12.042498Z"
    }
   },
   "outputs": [
    {
     "name": "stdout",
     "output_type": "stream",
     "text": [
      "45\n"
     ]
    }
   ],
   "source": [
    "print(my_age)"
   ]
  },
  {
   "cell_type": "markdown",
   "metadata": {},
   "source": [
    "Strings can be combined with the + operator."
   ]
  },
  {
   "cell_type": "code",
   "execution_count": 7,
   "metadata": {
    "execution": {
     "iopub.execute_input": "2022-03-17T01:30:12.045634Z",
     "iopub.status.busy": "2022-03-17T01:30:12.045304Z",
     "iopub.status.idle": "2022-03-17T01:30:12.048132Z",
     "shell.execute_reply": "2022-03-17T01:30:12.047754Z"
    }
   },
   "outputs": [
    {
     "name": "stdout",
     "output_type": "stream",
     "text": [
      "Hello, Tom\n"
     ]
    }
   ],
   "source": [
    "greeting = \"Hello, \" + my_name\n",
    "print(greeting)"
   ]
  },
  {
   "cell_type": "markdown",
   "metadata": {},
   "source": [
    "Let’s move on to numbers."
   ]
  },
  {
   "cell_type": "code",
   "execution_count": 8,
   "metadata": {
    "execution": {
     "iopub.execute_input": "2022-03-17T01:30:12.050364Z",
     "iopub.status.busy": "2022-03-17T01:30:12.050037Z",
     "iopub.status.idle": "2022-03-17T01:30:12.052917Z",
     "shell.execute_reply": "2022-03-17T01:30:12.052421Z"
    }
   },
   "outputs": [
    {
     "name": "stdout",
     "output_type": "stream",
     "text": [
      "45\n"
     ]
    }
   ],
   "source": [
    "print(my_age)"
   ]
  },
  {
   "cell_type": "markdown",
   "metadata": {},
   "source": [
    "If you try using the + operator on my_name and my_age:"
   ]
  },
  {
   "cell_type": "markdown",
   "metadata": {},
   "source": [
    "```python\n",
    "print(my_name + my_age)\n",
    "```"
   ]
  },
  {
   "cell_type": "markdown",
   "metadata": {},
   "source": [
    "<p>You will get a <a class=\"reference external\" href=\"https://docs.python.org/3/library/exceptions.html#TypeError\" title=\"(in Python v3.6)\"><code class=\"xref py py-class docutils literal\"><span class=\"pre\">TypeError</span></code></a>. What is wrong?</p>\n",
    "<p>my_name is a string and my_age is a number. Adding in this context does not make any sense.</p>\n",
    "<p>We can determine an object’s type with the <code class=\"xref py py-func docutils literal\"><span class=\"pre\">type()</span></code> function.</p>"
   ]
  },
  {
   "cell_type": "code",
   "execution_count": 9,
   "metadata": {
    "execution": {
     "iopub.execute_input": "2022-03-17T01:30:12.055695Z",
     "iopub.status.busy": "2022-03-17T01:30:12.055365Z",
     "iopub.status.idle": "2022-03-17T01:30:12.063639Z",
     "shell.execute_reply": "2022-03-17T01:30:12.063119Z"
    }
   },
   "outputs": [
    {
     "data": {
      "text/plain": [
       "str"
      ]
     },
     "execution_count": 9,
     "metadata": {},
     "output_type": "execute_result"
    }
   ],
   "source": [
    "type(my_name)"
   ]
  },
  {
   "cell_type": "code",
   "execution_count": 10,
   "metadata": {
    "execution": {
     "iopub.execute_input": "2022-03-17T01:30:12.066672Z",
     "iopub.status.busy": "2022-03-17T01:30:12.066267Z",
     "iopub.status.idle": "2022-03-17T01:30:12.069750Z",
     "shell.execute_reply": "2022-03-17T01:30:12.069228Z"
    }
   },
   "outputs": [
    {
     "data": {
      "text/plain": [
       "int"
      ]
     },
     "execution_count": 10,
     "metadata": {},
     "output_type": "execute_result"
    }
   ],
   "source": [
    "type(my_age)"
   ]
  },
  {
   "cell_type": "markdown",
   "metadata": {},
   "source": [
    "<p>The function <a class=\"reference external\" href=\"https://docs.python.org/3/library/functions.html#isinstance\" title=\"(in Python v3.6)\"><code class=\"xref py py-func docutils literal\"><span class=\"pre\">isinstance()</span></code></a> is typically more useful than comparing variable types as it allows handling subclasses:</p>"
   ]
  },
  {
   "cell_type": "code",
   "execution_count": 11,
   "metadata": {
    "execution": {
     "iopub.execute_input": "2022-03-17T01:30:12.072675Z",
     "iopub.status.busy": "2022-03-17T01:30:12.072346Z",
     "iopub.status.idle": "2022-03-17T01:30:12.075747Z",
     "shell.execute_reply": "2022-03-17T01:30:12.075322Z"
    }
   },
   "outputs": [
    {
     "data": {
      "text/plain": [
       "True"
      ]
     },
     "execution_count": 11,
     "metadata": {},
     "output_type": "execute_result"
    }
   ],
   "source": [
    "isinstance(my_name, str)"
   ]
  },
  {
   "cell_type": "markdown",
   "metadata": {},
   "source": []
  },
  {
   "cell_type": "code",
   "execution_count": 12,
   "metadata": {
    "execution": {
     "iopub.execute_input": "2022-03-17T01:30:12.078073Z",
     "iopub.status.busy": "2022-03-17T01:30:12.077744Z",
     "iopub.status.idle": "2022-03-17T01:30:12.080786Z",
     "shell.execute_reply": "2022-03-17T01:30:12.080405Z"
    }
   },
   "outputs": [
    {
     "name": "stdout",
     "output_type": "stream",
     "text": [
      "The variable is None!\n"
     ]
    }
   ],
   "source": [
    "my_valid_var = None\n",
    "if my_valid_var is not None:\n",
    "    print(my_valid_var)\n",
    "else:\n",
    "    print(\"The variable is None!\")"
   ]
  },
  {
   "cell_type": "markdown",
   "metadata": {},
   "source": []
  },
  {
   "cell_type": "markdown",
   "metadata": {},
   "source": [
    "## Arithmetic: <tt>+</tt>, <tt>-</tt>, <tt>*</tt>, <tt>/</tt>, <tt>**</tt>, <tt>%</tt> and comparisons"
   ]
  },
  {
   "cell_type": "code",
   "execution_count": 13,
   "metadata": {
    "execution": {
     "iopub.execute_input": "2022-03-17T01:30:12.083061Z",
     "iopub.status.busy": "2022-03-17T01:30:12.082733Z",
     "iopub.status.idle": "2022-03-17T01:30:12.086078Z",
     "shell.execute_reply": "2022-03-17T01:30:12.085586Z"
    }
   },
   "outputs": [
    {
     "data": {
      "text/plain": [
       "12"
      ]
     },
     "execution_count": 13,
     "metadata": {},
     "output_type": "execute_result"
    }
   ],
   "source": [
    "2 * 6"
   ]
  },
  {
   "cell_type": "markdown",
   "metadata": {},
   "source": [
    "Check for equality using two equal signs:"
   ]
  },
  {
   "cell_type": "code",
   "execution_count": 14,
   "metadata": {
    "execution": {
     "iopub.execute_input": "2022-03-17T01:30:12.088683Z",
     "iopub.status.busy": "2022-03-17T01:30:12.088352Z",
     "iopub.status.idle": "2022-03-17T01:30:12.091823Z",
     "shell.execute_reply": "2022-03-17T01:30:12.091306Z"
    }
   },
   "outputs": [
    {
     "data": {
      "text/plain": [
       "True"
      ]
     },
     "execution_count": 14,
     "metadata": {},
     "output_type": "execute_result"
    }
   ],
   "source": [
    "2 * 6 == 4 * 3"
   ]
  },
  {
   "cell_type": "code",
   "execution_count": 15,
   "metadata": {
    "execution": {
     "iopub.execute_input": "2022-03-17T01:30:12.094405Z",
     "iopub.status.busy": "2022-03-17T01:30:12.094074Z",
     "iopub.status.idle": "2022-03-17T01:30:12.097392Z",
     "shell.execute_reply": "2022-03-17T01:30:12.096917Z"
    }
   },
   "outputs": [
    {
     "data": {
      "text/plain": [
       "False"
      ]
     },
     "execution_count": 15,
     "metadata": {},
     "output_type": "execute_result"
    }
   ],
   "source": [
    "5 < 2"
   ]
  },
  {
   "cell_type": "code",
   "execution_count": 16,
   "metadata": {
    "execution": {
     "iopub.execute_input": "2022-03-17T01:30:12.099769Z",
     "iopub.status.busy": "2022-03-17T01:30:12.099441Z",
     "iopub.status.idle": "2022-03-17T01:30:12.102773Z",
     "shell.execute_reply": "2022-03-17T01:30:12.102397Z"
    }
   },
   "outputs": [
    {
     "data": {
      "text/plain": [
       "True"
      ]
     },
     "execution_count": 16,
     "metadata": {},
     "output_type": "execute_result"
    }
   ],
   "source": [
    "5 < 2 or 3 < 5"
   ]
  },
  {
   "cell_type": "code",
   "execution_count": 17,
   "metadata": {
    "execution": {
     "iopub.execute_input": "2022-03-17T01:30:12.105034Z",
     "iopub.status.busy": "2022-03-17T01:30:12.104708Z",
     "iopub.status.idle": "2022-03-17T01:30:12.108076Z",
     "shell.execute_reply": "2022-03-17T01:30:12.107696Z"
    }
   },
   "outputs": [
    {
     "data": {
      "text/plain": [
       "False"
      ]
     },
     "execution_count": 17,
     "metadata": {},
     "output_type": "execute_result"
    }
   ],
   "source": [
    "5 < 2 and 3 < 5"
   ]
  },
  {
   "cell_type": "code",
   "execution_count": 18,
   "metadata": {
    "execution": {
     "iopub.execute_input": "2022-03-17T01:30:12.110244Z",
     "iopub.status.busy": "2022-03-17T01:30:12.109919Z",
     "iopub.status.idle": "2022-03-17T01:30:12.113252Z",
     "shell.execute_reply": "2022-03-17T01:30:12.112787Z"
    }
   },
   "outputs": [
    {
     "data": {
      "text/plain": [
       "True"
      ]
     },
     "execution_count": 18,
     "metadata": {},
     "output_type": "execute_result"
    }
   ],
   "source": [
    "2 * 3 != 5"
   ]
  },
  {
   "cell_type": "markdown",
   "metadata": {},
   "source": [
    "<tt>%</tt> is the modulus operator. It returns the remainder from doing a division."
   ]
  },
  {
   "cell_type": "code",
   "execution_count": 19,
   "metadata": {
    "execution": {
     "iopub.execute_input": "2022-03-17T01:30:12.115594Z",
     "iopub.status.busy": "2022-03-17T01:30:12.115266Z",
     "iopub.status.idle": "2022-03-17T01:30:12.118514Z",
     "shell.execute_reply": "2022-03-17T01:30:12.118130Z"
    }
   },
   "outputs": [
    {
     "data": {
      "text/plain": [
       "2"
      ]
     },
     "execution_count": 19,
     "metadata": {},
     "output_type": "execute_result"
    }
   ],
   "source": [
    "5 % 3"
   ]
  },
  {
   "cell_type": "markdown",
   "metadata": {},
   "source": [
    "The above is because 5 / 3 is 1 with a remainder of 2."
   ]
  },
  {
   "cell_type": "markdown",
   "metadata": {},
   "source": [
    "In decimal, that is:"
   ]
  },
  {
   "cell_type": "code",
   "execution_count": 20,
   "metadata": {
    "execution": {
     "iopub.execute_input": "2022-03-17T01:30:12.120737Z",
     "iopub.status.busy": "2022-03-17T01:30:12.120412Z",
     "iopub.status.idle": "2022-03-17T01:30:12.123814Z",
     "shell.execute_reply": "2022-03-17T01:30:12.123322Z"
    }
   },
   "outputs": [
    {
     "data": {
      "text/plain": [
       "1.6666666666666667"
      ]
     },
     "execution_count": 20,
     "metadata": {},
     "output_type": "execute_result"
    }
   ],
   "source": [
    "5 / 3"
   ]
  },
  {
   "cell_type": "markdown",
   "metadata": {},
   "source": [
    "<div style='background-color:pink'>\n",
    "<p class=\"first admonition-title\"><b>Warning</b></p>\n",
    "<p class=\"last\">In older versions of Python (prior to 3.0), the <code class=\"docutils literal\" style='background-color:pink'><span class=\"pre\">/</span></code> operator when used on integers performed integer division; i.e. <code class=\"docutils literal\" style='background-color:pink'><span class=\"pre\">3/2</span></code> returned <code class=\"docutils literal\" style='background-color:pink'><span class=\"pre\">1</span></code>, but <code class=\"docutils literal\" style='background-color:pink'><span class=\"pre\">3/2.0</span></code> returned <code class=\"docutils literal\" style='background-color:pink'><span class=\"pre\">1.5</span></code>. Beginning with Python 3.0, the <code class=\"docutils literal\" style='background-color:pink'><span class=\"pre\">/</span></code> operator returns a float if integers do not divide evenly; i.e. <code class=\"docutils literal\" style='background-color:pink'><span class=\"pre\">3/2</span></code> returns <code class=\"docutils literal\" style='background-color:pink'><span class=\"pre\">1.5</span></code>. Integer division is still available using the <code class=\"docutils literal\" style='background-color:pink'><span class=\"pre\">//</span></code> operator, i.e. <code class=\"docutils literal\" style='background-color:pink'><span class=\"pre\">3</span> <span class=\"pre\">//</span> <span class=\"pre\">2</span></code> evaluates to 1.</p></div>"
   ]
  },
  {
   "cell_type": "markdown",
   "metadata": {},
   "source": [
    "## Making choices: if, else"
   ]
  },
  {
   "cell_type": "code",
   "execution_count": 21,
   "metadata": {
    "execution": {
     "iopub.execute_input": "2022-03-17T01:30:12.126344Z",
     "iopub.status.busy": "2022-03-17T01:30:12.126018Z",
     "iopub.status.idle": "2022-03-17T01:30:12.129037Z",
     "shell.execute_reply": "2022-03-17T01:30:12.128654Z"
    }
   },
   "outputs": [
    {
     "name": "stdout",
     "output_type": "stream",
     "text": [
      "working on the soma\n"
     ]
    }
   ],
   "source": [
    "section = 'soma'\n",
    "if section == 'soma':\n",
    "    print('working on the soma')\n",
    "else:\n",
    "    print('not working on the soma')"
   ]
  },
  {
   "cell_type": "code",
   "execution_count": 22,
   "metadata": {
    "execution": {
     "iopub.execute_input": "2022-03-17T01:30:12.131228Z",
     "iopub.status.busy": "2022-03-17T01:30:12.130893Z",
     "iopub.status.idle": "2022-03-17T01:30:12.133905Z",
     "shell.execute_reply": "2022-03-17T01:30:12.133520Z"
    }
   },
   "outputs": [
    {
     "name": "stdout",
     "output_type": "stream",
     "text": [
      "not statistically significant\n"
     ]
    }
   ],
   "source": [
    "p = 0.06\n",
    "if p < 0.05:\n",
    "    print('statistically significant')\n",
    "else:\n",
    "    print('not statistically significant')"
   ]
  },
  {
   "cell_type": "markdown",
   "metadata": {},
   "source": [
    "Note that here we used a single quote instead of a double quote to indicate the beginning and end of a string. Either way is fine, as long as the beginning and end of a string match."
   ]
  },
  {
   "cell_type": "markdown",
   "metadata": {},
   "source": [
    "Python also has a special object called <tt>None</tt>. This is one way you can specify whether or not an object is valid. When doing comparisons with <tt>None</tt>, it is generally recommended to use <tt>is</tt> and <tt>is not</tt>:"
   ]
  },
  {
   "cell_type": "code",
   "execution_count": 23,
   "metadata": {
    "execution": {
     "iopub.execute_input": "2022-03-17T01:30:12.136284Z",
     "iopub.status.busy": "2022-03-17T01:30:12.135956Z",
     "iopub.status.idle": "2022-03-17T01:30:12.139094Z",
     "shell.execute_reply": "2022-03-17T01:30:12.138687Z"
    }
   },
   "outputs": [
    {
     "name": "stdout",
     "output_type": "stream",
     "text": [
      "No postsynaptic cell to connect to\n"
     ]
    }
   ],
   "source": [
    "postsynaptic_cell = None\n",
    "if postsynaptic_cell is not None:\n",
    "    print(\"Connecting to postsynaptic cell\")\n",
    "else:\n",
    "    print(\"No postsynaptic cell to connect to\")"
   ]
  },
  {
   "cell_type": "markdown",
   "metadata": {},
   "source": [
    "## Lists"
   ]
  },
  {
   "cell_type": "markdown",
   "metadata": {},
   "source": [
    "Lists are comma-separated values surrounded by square brackets:"
   ]
  },
  {
   "cell_type": "code",
   "execution_count": 24,
   "metadata": {
    "execution": {
     "iopub.execute_input": "2022-03-17T01:30:12.141542Z",
     "iopub.status.busy": "2022-03-17T01:30:12.141198Z",
     "iopub.status.idle": "2022-03-17T01:30:12.144071Z",
     "shell.execute_reply": "2022-03-17T01:30:12.143692Z"
    }
   },
   "outputs": [
    {
     "name": "stdout",
     "output_type": "stream",
     "text": [
      "[1, 3, 5, 8, 13]\n"
     ]
    }
   ],
   "source": [
    "my_list = [1, 3, 5, 8, 13]\n",
    "print(my_list)"
   ]
  },
  {
   "cell_type": "markdown",
   "metadata": {},
   "source": [
    "Lists are zero-indexed. That is, the first element is 0."
   ]
  },
  {
   "cell_type": "code",
   "execution_count": 25,
   "metadata": {
    "execution": {
     "iopub.execute_input": "2022-03-17T01:30:12.146295Z",
     "iopub.status.busy": "2022-03-17T01:30:12.145969Z",
     "iopub.status.idle": "2022-03-17T01:30:12.149357Z",
     "shell.execute_reply": "2022-03-17T01:30:12.148877Z"
    }
   },
   "outputs": [
    {
     "data": {
      "text/plain": [
       "1"
      ]
     },
     "execution_count": 25,
     "metadata": {},
     "output_type": "execute_result"
    }
   ],
   "source": [
    "my_list[0]"
   ]
  },
  {
   "cell_type": "markdown",
   "metadata": {},
   "source": [
    "You may often find yourself wanting to know how many items are in a list."
   ]
  },
  {
   "cell_type": "code",
   "execution_count": 26,
   "metadata": {
    "execution": {
     "iopub.execute_input": "2022-03-17T01:30:12.151576Z",
     "iopub.status.busy": "2022-03-17T01:30:12.151243Z",
     "iopub.status.idle": "2022-03-17T01:30:12.154562Z",
     "shell.execute_reply": "2022-03-17T01:30:12.154102Z"
    }
   },
   "outputs": [
    {
     "data": {
      "text/plain": [
       "5"
      ]
     },
     "execution_count": 26,
     "metadata": {},
     "output_type": "execute_result"
    }
   ],
   "source": [
    "len(my_list)"
   ]
  },
  {
   "cell_type": "markdown",
   "metadata": {},
   "source": [
    "Python interprets negative indices as counting backwards from the end of the list. That is, the -1 index refers to the last item, the -2 index refers to the second-to-last item, etc."
   ]
  },
  {
   "cell_type": "code",
   "execution_count": 27,
   "metadata": {
    "execution": {
     "iopub.execute_input": "2022-03-17T01:30:12.156914Z",
     "iopub.status.busy": "2022-03-17T01:30:12.156491Z",
     "iopub.status.idle": "2022-03-17T01:30:12.159658Z",
     "shell.execute_reply": "2022-03-17T01:30:12.159236Z"
    }
   },
   "outputs": [
    {
     "name": "stdout",
     "output_type": "stream",
     "text": [
      "[1, 3, 5, 8, 13]\n",
      "13\n"
     ]
    }
   ],
   "source": [
    "print(my_list)\n",
    "print(my_list[-1])"
   ]
  },
  {
   "cell_type": "markdown",
   "metadata": {},
   "source": [
    "“Slicing” is extracting particular sub-elements from the list in a particular range. However, notice that the right-side is excluded, and the left is included."
   ]
  },
  {
   "cell_type": "code",
   "execution_count": 28,
   "metadata": {
    "execution": {
     "iopub.execute_input": "2022-03-17T01:30:12.161892Z",
     "iopub.status.busy": "2022-03-17T01:30:12.161561Z",
     "iopub.status.idle": "2022-03-17T01:30:12.165262Z",
     "shell.execute_reply": "2022-03-17T01:30:12.164875Z"
    }
   },
   "outputs": [
    {
     "name": "stdout",
     "output_type": "stream",
     "text": [
      "[1, 3, 5, 8, 13]\n",
      "[5, 8]\n",
      "[5, 8]\n",
      "[1, 3]\n",
      "[5, 8, 13]\n"
     ]
    }
   ],
   "source": [
    "print(my_list)\n",
    "print(my_list[2:4])  # Includes the range from index 2 to 3\n",
    "print(my_list[2:-1]) # Includes the range from index 2 to the element before -1\n",
    "print(my_list[:2])   # Includes everything before index 2\n",
    "print(my_list[2:])   # Includes everything from index 2"
   ]
  },
  {
   "cell_type": "markdown",
   "metadata": {},
   "source": [
    "We can check if our list contains a given value using the <tt>in</tt> operator:"
   ]
  },
  {
   "cell_type": "code",
   "execution_count": 29,
   "metadata": {
    "execution": {
     "iopub.execute_input": "2022-03-17T01:30:12.167592Z",
     "iopub.status.busy": "2022-03-17T01:30:12.167268Z",
     "iopub.status.idle": "2022-03-17T01:30:12.170582Z",
     "shell.execute_reply": "2022-03-17T01:30:12.170202Z"
    }
   },
   "outputs": [
    {
     "data": {
      "text/plain": [
       "False"
      ]
     },
     "execution_count": 29,
     "metadata": {},
     "output_type": "execute_result"
    }
   ],
   "source": [
    "42 in my_list"
   ]
  },
  {
   "cell_type": "code",
   "execution_count": 30,
   "metadata": {
    "execution": {
     "iopub.execute_input": "2022-03-17T01:30:12.172773Z",
     "iopub.status.busy": "2022-03-17T01:30:12.172444Z",
     "iopub.status.idle": "2022-03-17T01:30:12.175873Z",
     "shell.execute_reply": "2022-03-17T01:30:12.175378Z"
    }
   },
   "outputs": [
    {
     "data": {
      "text/plain": [
       "True"
      ]
     },
     "execution_count": 30,
     "metadata": {},
     "output_type": "execute_result"
    }
   ],
   "source": [
    "5 in my_list"
   ]
  },
  {
   "cell_type": "markdown",
   "metadata": {},
   "source": [
    "We can append an element to a list using the <tt>append</tt> method:"
   ]
  },
  {
   "cell_type": "code",
   "execution_count": 31,
   "metadata": {
    "execution": {
     "iopub.execute_input": "2022-03-17T01:30:12.178325Z",
     "iopub.status.busy": "2022-03-17T01:30:12.177996Z",
     "iopub.status.idle": "2022-03-17T01:30:12.180813Z",
     "shell.execute_reply": "2022-03-17T01:30:12.180430Z"
    }
   },
   "outputs": [
    {
     "name": "stdout",
     "output_type": "stream",
     "text": [
      "[1, 3, 5, 8, 13, 42]\n"
     ]
    }
   ],
   "source": [
    "my_list.append(42)\n",
    "print(my_list)"
   ]
  },
  {
   "cell_type": "markdown",
   "metadata": {},
   "source": [
    "To make a variable equal to a copy of a list, set it equal to <tt>list(the_old_list)</tt>. For example:"
   ]
  },
  {
   "cell_type": "code",
   "execution_count": 32,
   "metadata": {
    "execution": {
     "iopub.execute_input": "2022-03-17T01:30:12.183064Z",
     "iopub.status.busy": "2022-03-17T01:30:12.182735Z",
     "iopub.status.idle": "2022-03-17T01:30:12.186207Z",
     "shell.execute_reply": "2022-03-17T01:30:12.185817Z"
    }
   },
   "outputs": [
    {
     "name": "stdout",
     "output_type": "stream",
     "text": [
      "list_a = [1, 3, 5, 8, 13]\n",
      "list_b = [13, 8, 5, 3, 1]\n"
     ]
    }
   ],
   "source": [
    "list_a = [1, 3, 5, 8, 13]\n",
    "list_b = list(list_a)\n",
    "list_b.reverse()\n",
    "print(\"list_a = \" + str(list_a))\n",
    "print(\"list_b = \" + str(list_b))"
   ]
  },
  {
   "cell_type": "markdown",
   "metadata": {},
   "source": [
    "In particular, note that assigning one list to another variable <i>does not</i> make a copy. Instead, it just gives another way of accessing the same list."
   ]
  },
  {
   "cell_type": "code",
   "execution_count": 33,
   "metadata": {
    "execution": {
     "iopub.execute_input": "2022-03-17T01:30:12.188589Z",
     "iopub.status.busy": "2022-03-17T01:30:12.188174Z",
     "iopub.status.idle": "2022-03-17T01:30:12.192742Z",
     "shell.execute_reply": "2022-03-17T01:30:12.192268Z"
    }
   },
   "outputs": [
    {
     "name": "stdout",
     "output_type": "stream",
     "text": [
      "initial: list_a[0] = 1\n",
      "final:   list_a[0] = 42\n"
     ]
    }
   ],
   "source": [
    "print('initial: list_a[0] = %g' % list_a[0])\n",
    "foo = list_a\n",
    "foo[0] = 42\n",
    "print('final:   list_a[0] = %g' % list_a[0])"
   ]
  },
  {
   "cell_type": "markdown",
   "metadata": {},
   "source": [
    "<p>If the second line in the previous example was replaced with <tt>list_b = list_a</tt>, then what would happen?</p>\n",
    "<p>In that case, <tt>list_b</tt> is the same list as <tt>list_a</tt> (as opposed to a copy), so when <tt>list_b</tt> was reversed so is <tt>list_a</a> (since <tt>list_b<tt> <i>is</i> <tt>list_a</tt>).</p>"
   ]
  },
  {
   "cell_type": "markdown",
   "metadata": {},
   "source": [
    "We can sort a list and get a new list using the <tt>sorted</tt> function. e.g."
   ]
  },
  {
   "cell_type": "code",
   "execution_count": 34,
   "metadata": {
    "execution": {
     "iopub.execute_input": "2022-03-17T01:30:12.195189Z",
     "iopub.status.busy": "2022-03-17T01:30:12.194860Z",
     "iopub.status.idle": "2022-03-17T01:30:12.198529Z",
     "shell.execute_reply": "2022-03-17T01:30:12.198066Z"
    }
   },
   "outputs": [
    {
     "data": {
      "text/plain": [
       "['apical', 'axon', 'basal', 'obliques', 'soma']"
      ]
     },
     "execution_count": 34,
     "metadata": {},
     "output_type": "execute_result"
    }
   ],
   "source": [
    "sorted(['soma', 'basal', 'apical', 'axon', 'obliques'])"
   ]
  },
  {
   "cell_type": "markdown",
   "metadata": {},
   "source": [
    "Here we have sorted by alphabetical order. If our list had only numbers, it would by default sort by numerical order:"
   ]
  },
  {
   "cell_type": "code",
   "execution_count": 35,
   "metadata": {
    "execution": {
     "iopub.execute_input": "2022-03-17T01:30:12.201258Z",
     "iopub.status.busy": "2022-03-17T01:30:12.200846Z",
     "iopub.status.idle": "2022-03-17T01:30:12.204331Z",
     "shell.execute_reply": "2022-03-17T01:30:12.203961Z"
    }
   },
   "outputs": [
    {
     "data": {
      "text/plain": [
       "[1, 1.51, 4, 6, 165]"
      ]
     },
     "execution_count": 35,
     "metadata": {},
     "output_type": "execute_result"
    }
   ],
   "source": [
    "sorted([6, 1, 165, 1.51, 4])"
   ]
  },
  {
   "cell_type": "markdown",
   "metadata": {},
   "source": [
    "If we wanted to sort by another attribute, we can specify a function that returns that attribute value as the optional <tt>key</tt> keyword argument. For example, to sort our list of neuron parts by the length of the name (returned by the function <tt>len</tt>):"
   ]
  },
  {
   "cell_type": "code",
   "execution_count": 36,
   "metadata": {
    "execution": {
     "iopub.execute_input": "2022-03-17T01:30:12.206582Z",
     "iopub.status.busy": "2022-03-17T01:30:12.206253Z",
     "iopub.status.idle": "2022-03-17T01:30:12.209905Z",
     "shell.execute_reply": "2022-03-17T01:30:12.209445Z"
    }
   },
   "outputs": [
    {
     "data": {
      "text/plain": [
       "['soma', 'axon', 'basal', 'apical', 'obliques']"
      ]
     },
     "execution_count": 36,
     "metadata": {},
     "output_type": "execute_result"
    }
   ],
   "source": [
    "sorted(['soma', 'basal', 'apical', 'axon', 'obliques'], key=len)"
   ]
  },
  {
   "cell_type": "markdown",
   "metadata": {},
   "source": [
    "<p>Lists can contain arbitrary data types, but if you find yourself doing this, you should probably consider making classes or dictionaries (described below).</p>"
   ]
  },
  {
   "cell_type": "code",
   "execution_count": 37,
   "metadata": {
    "execution": {
     "iopub.execute_input": "2022-03-17T01:30:12.212193Z",
     "iopub.status.busy": "2022-03-17T01:30:12.211868Z",
     "iopub.status.idle": "2022-03-17T01:30:12.215077Z",
     "shell.execute_reply": "2022-03-17T01:30:12.214641Z"
    }
   },
   "outputs": [
    {
     "name": "stdout",
     "output_type": "stream",
     "text": [
      "['abc', 1.0, 2, 'another string']\n",
      "another string\n"
     ]
    }
   ],
   "source": [
    "confusing_list = ['abc', 1.0, 2, \"another string\"]\n",
    "print(confusing_list)\n",
    "print(confusing_list[3])"
   ]
  },
  {
   "cell_type": "markdown",
   "metadata": {},
   "source": [
    "It is sometimes convenient to assign the elements of a list with a known length to an equivalent number of variables:"
   ]
  },
  {
   "cell_type": "code",
   "execution_count": 38,
   "metadata": {
    "execution": {
     "iopub.execute_input": "2022-03-17T01:30:12.217588Z",
     "iopub.status.busy": "2022-03-17T01:30:12.217167Z",
     "iopub.status.idle": "2022-03-17T01:30:12.221456Z",
     "shell.execute_reply": "2022-03-17T01:30:12.220965Z"
    }
   },
   "outputs": [
    {
     "name": "stdout",
     "output_type": "stream",
     "text": [
      "35\n"
     ]
    }
   ],
   "source": [
    "first, second, third = [42, 35, 25]\n",
    "print(second)"
   ]
  },
  {
   "cell_type": "markdown",
   "metadata": {},
   "source": [
    "The <tt>range</tt> function can be used to create a list-like object (prior to Python 3.0, it generated lists; beginning with 3.0, it generates a more memory efficient structure) of evenly spaced integers; a list can be produced from this using the <tt>list</tt> function. With one argument, range produces integers from 0 to the argument, with two integer arguments, it produces integers between the two values, and with three arguments, the third specifies the interval between the first two. The ending value is not included."
   ]
  },
  {
   "cell_type": "code",
   "execution_count": 39,
   "metadata": {
    "execution": {
     "iopub.execute_input": "2022-03-17T01:30:12.224003Z",
     "iopub.status.busy": "2022-03-17T01:30:12.223623Z",
     "iopub.status.idle": "2022-03-17T01:30:12.227003Z",
     "shell.execute_reply": "2022-03-17T01:30:12.226516Z"
    }
   },
   "outputs": [
    {
     "name": "stdout",
     "output_type": "stream",
     "text": [
      "[0, 1, 2, 3, 4, 5, 6, 7, 8, 9]\n"
     ]
    }
   ],
   "source": [
    "print(list(range(10)))         # [0, 1, 2, 3, 4, 5, 6, 7, 8, 9]"
   ]
  },
  {
   "cell_type": "code",
   "execution_count": 40,
   "metadata": {
    "execution": {
     "iopub.execute_input": "2022-03-17T01:30:12.229232Z",
     "iopub.status.busy": "2022-03-17T01:30:12.228910Z",
     "iopub.status.idle": "2022-03-17T01:30:12.231785Z",
     "shell.execute_reply": "2022-03-17T01:30:12.231403Z"
    }
   },
   "outputs": [
    {
     "name": "stdout",
     "output_type": "stream",
     "text": [
      "[0, 1, 2, 3, 4, 5, 6, 7, 8, 9]\n"
     ]
    }
   ],
   "source": [
    "print(list(range(0, 10)))      # [0, 1, 2, 3, 4, 5, 6, 7, 8, 9]"
   ]
  },
  {
   "cell_type": "code",
   "execution_count": 41,
   "metadata": {
    "execution": {
     "iopub.execute_input": "2022-03-17T01:30:12.234126Z",
     "iopub.status.busy": "2022-03-17T01:30:12.233717Z",
     "iopub.status.idle": "2022-03-17T01:30:12.237931Z",
     "shell.execute_reply": "2022-03-17T01:30:12.237450Z"
    }
   },
   "outputs": [
    {
     "name": "stdout",
     "output_type": "stream",
     "text": [
      "[3, 4, 5, 6, 7, 8, 9]\n"
     ]
    }
   ],
   "source": [
    "print(list(range(3, 10)))      # [3, 4, 5, 6, 7, 8, 9]"
   ]
  },
  {
   "cell_type": "code",
   "execution_count": 42,
   "metadata": {
    "execution": {
     "iopub.execute_input": "2022-03-17T01:30:12.240308Z",
     "iopub.status.busy": "2022-03-17T01:30:12.240064Z",
     "iopub.status.idle": "2022-03-17T01:30:12.244241Z",
     "shell.execute_reply": "2022-03-17T01:30:12.243768Z"
    }
   },
   "outputs": [
    {
     "name": "stdout",
     "output_type": "stream",
     "text": [
      "[0, 2, 4, 6, 8]\n"
     ]
    }
   ],
   "source": [
    "print(list(range(0, 10, 2)))   # [0, 2, 4, 6, 8]"
   ]
  },
  {
   "cell_type": "code",
   "execution_count": 43,
   "metadata": {
    "execution": {
     "iopub.execute_input": "2022-03-17T01:30:12.246732Z",
     "iopub.status.busy": "2022-03-17T01:30:12.246422Z",
     "iopub.status.idle": "2022-03-17T01:30:12.250401Z",
     "shell.execute_reply": "2022-03-17T01:30:12.249945Z"
    }
   },
   "outputs": [
    {
     "name": "stdout",
     "output_type": "stream",
     "text": [
      "[]\n"
     ]
    }
   ],
   "source": [
    "print(list(range(0, -10)))     # []"
   ]
  },
  {
   "cell_type": "code",
   "execution_count": 44,
   "metadata": {
    "execution": {
     "iopub.execute_input": "2022-03-17T01:30:12.252897Z",
     "iopub.status.busy": "2022-03-17T01:30:12.252525Z",
     "iopub.status.idle": "2022-03-17T01:30:12.256633Z",
     "shell.execute_reply": "2022-03-17T01:30:12.256172Z"
    }
   },
   "outputs": [
    {
     "name": "stdout",
     "output_type": "stream",
     "text": [
      "[0, -1, -2, -3, -4, -5, -6, -7, -8, -9]\n"
     ]
    }
   ],
   "source": [
    "print(list(range(0, -10, -1))) # [0, -1, -2, -3, -4, -5, -6, -7, -8, -9]"
   ]
  },
  {
   "cell_type": "code",
   "execution_count": 45,
   "metadata": {
    "execution": {
     "iopub.execute_input": "2022-03-17T01:30:12.258981Z",
     "iopub.status.busy": "2022-03-17T01:30:12.258737Z",
     "iopub.status.idle": "2022-03-17T01:30:12.261629Z",
     "shell.execute_reply": "2022-03-17T01:30:12.261211Z"
    }
   },
   "outputs": [
    {
     "name": "stdout",
     "output_type": "stream",
     "text": [
      "[0, -2, -4, -6, -8]\n"
     ]
    }
   ],
   "source": [
    "print(list(range(0, -10, -2))) # [0, -2, -4, -6, -8]"
   ]
  },
  {
   "cell_type": "markdown",
   "metadata": {},
   "source": [
    "For non-integer ranges, use <tt><a href=\"https://docs.scipy.org/doc/numpy/reference/generated/numpy.arange.html\">numpy.arange</a></tt> from the <tt><a href=\"http://www.numpy.org/\">numpy</a></tt> module."
   ]
  },
  {
   "cell_type": "markdown",
   "metadata": {},
   "source": [
    "### List comprehensions (set theory)"
   ]
  },
  {
   "cell_type": "markdown",
   "metadata": {},
   "source": [
    "List comprehensions provide a rule for building a list from another list (or any other Python iterable).\n",
    "\n",
    "For example, the list of all integers from 0 to 9 inclusive is <tt>range(10)</tt> as shown above. We can get a list of the squares of all those integers via:"
   ]
  },
  {
   "cell_type": "code",
   "execution_count": 46,
   "metadata": {
    "execution": {
     "iopub.execute_input": "2022-03-17T01:30:12.263950Z",
     "iopub.status.busy": "2022-03-17T01:30:12.263542Z",
     "iopub.status.idle": "2022-03-17T01:30:12.268909Z",
     "shell.execute_reply": "2022-03-17T01:30:12.268454Z"
    }
   },
   "outputs": [
    {
     "data": {
      "text/plain": [
       "[0, 1, 4, 9, 16, 25, 36, 49, 64, 81]"
      ]
     },
     "execution_count": 46,
     "metadata": {},
     "output_type": "execute_result"
    }
   ],
   "source": [
    "[x ** 2 for x in range(10)]"
   ]
  },
  {
   "cell_type": "markdown",
   "metadata": {},
   "source": [
    "Including an <tt>if</tt> condition allows us to filter the list:\n",
    "\n",
    "What are all the integers <tt>x</tt> between 0 and 29 inclusive that satisfy <tt>(x - 3) * (x - 10) == 0</tt>?"
   ]
  },
  {
   "cell_type": "code",
   "execution_count": 47,
   "metadata": {
    "execution": {
     "iopub.execute_input": "2022-03-17T01:30:12.271461Z",
     "iopub.status.busy": "2022-03-17T01:30:12.271084Z",
     "iopub.status.idle": "2022-03-17T01:30:12.276424Z",
     "shell.execute_reply": "2022-03-17T01:30:12.275974Z"
    }
   },
   "outputs": [
    {
     "data": {
      "text/plain": [
       "[3, 10]"
      ]
     },
     "execution_count": 47,
     "metadata": {},
     "output_type": "execute_result"
    }
   ],
   "source": [
    "[x for x in range(30) if (x - 3) * (x - 10) == 0]"
   ]
  },
  {
   "cell_type": "markdown",
   "metadata": {},
   "source": [
    "## For loops and iterators"
   ]
  },
  {
   "cell_type": "markdown",
   "metadata": {},
   "source": [
    "We can iterate over elements in a list by following the format: <tt>for element in list:</tt> Notice that indentation is important in Python! After a colon, the block needs to be indented. (Any consistent indentation will work, but the Python standard is 4 spaces)."
   ]
  },
  {
   "cell_type": "code",
   "execution_count": 48,
   "metadata": {
    "execution": {
     "iopub.execute_input": "2022-03-17T01:30:12.278671Z",
     "iopub.status.busy": "2022-03-17T01:30:12.278515Z",
     "iopub.status.idle": "2022-03-17T01:30:12.282832Z",
     "shell.execute_reply": "2022-03-17T01:30:12.282339Z"
    }
   },
   "outputs": [
    {
     "name": "stdout",
     "output_type": "stream",
     "text": [
      "soma\n",
      "axon\n",
      "dendrites\n"
     ]
    }
   ],
   "source": [
    "cell_parts = ['soma', 'axon', 'dendrites']\n",
    "for part in cell_parts:\n",
    "    print(part)"
   ]
  },
  {
   "cell_type": "markdown",
   "metadata": {},
   "source": [
    "Note that we are iterating over the elements of a list; much of the time, the index of the items is irrelevant. If, on the other hand, we need to know the index as well, we can use <tt>enumerate</tt>:"
   ]
  },
  {
   "cell_type": "code",
   "execution_count": 49,
   "metadata": {
    "execution": {
     "iopub.execute_input": "2022-03-17T01:30:12.284998Z",
     "iopub.status.busy": "2022-03-17T01:30:12.284740Z",
     "iopub.status.idle": "2022-03-17T01:30:12.287866Z",
     "shell.execute_reply": "2022-03-17T01:30:12.287494Z"
    }
   },
   "outputs": [
    {
     "name": "stdout",
     "output_type": "stream",
     "text": [
      "0 soma\n",
      "1 axon\n",
      "2 dendrites\n"
     ]
    }
   ],
   "source": [
    "cell_parts = ['soma', 'axon', 'dendrites']\n",
    "for part_num, part in enumerate(cell_parts):\n",
    "    print('%d %s' % (part_num, part))"
   ]
  },
  {
   "cell_type": "markdown",
   "metadata": {},
   "source": [
    "Multiple aligned lists (such as occurs with time series data) can be looped over simultaneously using <tt>zip</tt>:"
   ]
  },
  {
   "cell_type": "code",
   "execution_count": 50,
   "metadata": {
    "execution": {
     "iopub.execute_input": "2022-03-17T01:30:12.290159Z",
     "iopub.status.busy": "2022-03-17T01:30:12.289828Z",
     "iopub.status.idle": "2022-03-17T01:30:12.293193Z",
     "shell.execute_reply": "2022-03-17T01:30:12.292798Z"
    }
   },
   "outputs": [
    {
     "name": "stdout",
     "output_type": "stream",
     "text": [
      "      soma 20\n",
      "      axon 2\n",
      " dendrites 3\n"
     ]
    }
   ],
   "source": [
    "cell_parts = ['soma', 'axon', 'dendrites']\n",
    "diams = [20, 2, 3]\n",
    "for diam, part in zip(diams, cell_parts):\n",
    "    print('%10s %g' % (part, diam))"
   ]
  },
  {
   "cell_type": "markdown",
   "metadata": {},
   "source": [
    "Another example:"
   ]
  },
  {
   "cell_type": "code",
   "execution_count": 51,
   "metadata": {
    "execution": {
     "iopub.execute_input": "2022-03-17T01:30:12.295503Z",
     "iopub.status.busy": "2022-03-17T01:30:12.295171Z",
     "iopub.status.idle": "2022-03-17T01:30:12.300392Z",
     "shell.execute_reply": "2022-03-17T01:30:12.299909Z"
    }
   },
   "outputs": [
    {
     "name": "stdout",
     "output_type": "stream",
     "text": [
      "x = [0, 1, 2, 3, 4]\n",
      "y = ['a', 'b', 'c', 'd', 'e']\n",
      "[(0, 'a'), (1, 'b'), (2, 'c'), (3, 'd'), (4, 'e')]\n"
     ]
    }
   ],
   "source": [
    "y = ['a', 'b', 'c', 'd', 'e']\n",
    "x = list(range(len(y)))\n",
    "print(\"x = {}\".format(x))\n",
    "print(\"y = {}\".format(y))\n",
    "print(list(zip(x, y)))"
   ]
  },
  {
   "cell_type": "markdown",
   "metadata": {},
   "source": [
    "This is a list of tuples. Given a list of tuples, then we iterate with each tuple."
   ]
  },
  {
   "cell_type": "code",
   "execution_count": 52,
   "metadata": {
    "execution": {
     "iopub.execute_input": "2022-03-17T01:30:12.302640Z",
     "iopub.status.busy": "2022-03-17T01:30:12.302385Z",
     "iopub.status.idle": "2022-03-17T01:30:12.306808Z",
     "shell.execute_reply": "2022-03-17T01:30:12.306310Z"
    }
   },
   "outputs": [
    {
     "name": "stdout",
     "output_type": "stream",
     "text": [
      "index 0: a\n",
      "index 1: b\n",
      "index 2: c\n",
      "index 3: d\n",
      "index 4: e\n"
     ]
    }
   ],
   "source": [
    "for x_val, y_val in zip(x, y):\n",
    "    print(\"index {}: {}\".format(x_val, y_val))"
   ]
  },
  {
   "cell_type": "markdown",
   "metadata": {},
   "source": [
    "Tuples are similar to lists, except they are immutable (cannot be changed). You can retrieve individual elements of a tuple, but once they are set upon creation, you cannot change them. Also, you cannot add or remove elements of a tuple."
   ]
  },
  {
   "cell_type": "code",
   "execution_count": 53,
   "metadata": {
    "execution": {
     "iopub.execute_input": "2022-03-17T01:30:12.309018Z",
     "iopub.status.busy": "2022-03-17T01:30:12.308762Z",
     "iopub.status.idle": "2022-03-17T01:30:12.312017Z",
     "shell.execute_reply": "2022-03-17T01:30:12.311512Z"
    }
   },
   "outputs": [
    {
     "name": "stdout",
     "output_type": "stream",
     "text": [
      "(1, 'two', 3)\n",
      "two\n"
     ]
    }
   ],
   "source": [
    "my_tuple = (1, 'two', 3)\n",
    "print(my_tuple)\n",
    "print(my_tuple[1])"
   ]
  },
  {
   "cell_type": "markdown",
   "metadata": {},
   "source": [
    "Attempting to modify a tuple, e.g."
   ]
  },
  {
   "cell_type": "markdown",
   "metadata": {},
   "source": [
    "```python\n",
    "my_tuple[1] = 2\n",
    "```"
   ]
  },
  {
   "cell_type": "markdown",
   "metadata": {},
   "source": [
    "will cause a <a class=\"reference external\" href=\"https://docs.python.org/3/library/exceptions.html#TypeError\" title=\"(in Python v3.6)\"><code class=\"xref py py-class docutils literal\"><span class=\"pre\">TypeError</span></code></a>."
   ]
  },
  {
   "cell_type": "markdown",
   "metadata": {},
   "source": [
    "Because you cannot modify an element in a tuple, or add or remove individual elements of it, it can operate in Python more efficiently than a list. A tuple can even serve as a key to a dictionary."
   ]
  },
  {
   "cell_type": "markdown",
   "metadata": {},
   "source": [
    "## Dictionaries"
   ]
  },
  {
   "cell_type": "markdown",
   "metadata": {},
   "source": [
    "A dictionary (also called a dict or hash table) is a set of (key, value) pairs, denoted by curly brackets:"
   ]
  },
  {
   "cell_type": "code",
   "execution_count": 54,
   "metadata": {
    "execution": {
     "iopub.execute_input": "2022-03-17T01:30:12.315126Z",
     "iopub.status.busy": "2022-03-17T01:30:12.314706Z",
     "iopub.status.idle": "2022-03-17T01:30:12.317695Z",
     "shell.execute_reply": "2022-03-17T01:30:12.317317Z"
    }
   },
   "outputs": [
    {
     "name": "stdout",
     "output_type": "stream",
     "text": [
      "{'name': 'Tom', 'age': 45, 'height': \"5'8\"}\n"
     ]
    }
   ],
   "source": [
    "about_me = {'name': my_name, 'age': my_age, 'height': \"5'8\"}\n",
    "print(about_me)"
   ]
  },
  {
   "cell_type": "markdown",
   "metadata": {},
   "source": [
    "You can obtain values by referencing the key:"
   ]
  },
  {
   "cell_type": "code",
   "execution_count": 55,
   "metadata": {
    "execution": {
     "iopub.execute_input": "2022-03-17T01:30:12.319996Z",
     "iopub.status.busy": "2022-03-17T01:30:12.319586Z",
     "iopub.status.idle": "2022-03-17T01:30:12.322403Z",
     "shell.execute_reply": "2022-03-17T01:30:12.322034Z"
    }
   },
   "outputs": [
    {
     "name": "stdout",
     "output_type": "stream",
     "text": [
      "5'8\n"
     ]
    }
   ],
   "source": [
    "print(about_me['height'])"
   ]
  },
  {
   "cell_type": "markdown",
   "metadata": {},
   "source": [
    "Similarly, we can modify existing values by referencing the key."
   ]
  },
  {
   "cell_type": "code",
   "execution_count": 56,
   "metadata": {
    "execution": {
     "iopub.execute_input": "2022-03-17T01:30:12.324759Z",
     "iopub.status.busy": "2022-03-17T01:30:12.324288Z",
     "iopub.status.idle": "2022-03-17T01:30:12.327507Z",
     "shell.execute_reply": "2022-03-17T01:30:12.326982Z"
    }
   },
   "outputs": [
    {
     "name": "stdout",
     "output_type": "stream",
     "text": [
      "{'name': 'Thomas', 'age': 45, 'height': \"5'8\"}\n"
     ]
    }
   ],
   "source": [
    "about_me['name'] = \"Thomas\"\n",
    "print(about_me)"
   ]
  },
  {
   "cell_type": "markdown",
   "metadata": {},
   "source": [
    "We can even add new values."
   ]
  },
  {
   "cell_type": "code",
   "execution_count": 57,
   "metadata": {
    "execution": {
     "iopub.execute_input": "2022-03-17T01:30:12.330307Z",
     "iopub.status.busy": "2022-03-17T01:30:12.329981Z",
     "iopub.status.idle": "2022-03-17T01:30:12.332818Z",
     "shell.execute_reply": "2022-03-17T01:30:12.332419Z"
    }
   },
   "outputs": [
    {
     "name": "stdout",
     "output_type": "stream",
     "text": [
      "{'name': 'Thomas', 'age': 45, 'height': \"5'8\", 'eye_color': 'brown'}\n"
     ]
    }
   ],
   "source": [
    "about_me['eye_color'] = \"brown\"\n",
    "print(about_me)"
   ]
  },
  {
   "cell_type": "markdown",
   "metadata": {},
   "source": [
    "We can use curly braces with keys to indicate dictionary fields when using <tt>format</tt>. e.g."
   ]
  },
  {
   "cell_type": "code",
   "execution_count": 58,
   "metadata": {
    "execution": {
     "iopub.execute_input": "2022-03-17T01:30:12.335134Z",
     "iopub.status.busy": "2022-03-17T01:30:12.334806Z",
     "iopub.status.idle": "2022-03-17T01:30:12.337712Z",
     "shell.execute_reply": "2022-03-17T01:30:12.337313Z"
    }
   },
   "outputs": [
    {
     "name": "stdout",
     "output_type": "stream",
     "text": [
      "I am a 45 year old person named Thomas. Again, my name is Thomas.\n"
     ]
    }
   ],
   "source": [
    "print('I am a {age} year old person named {name}. Again, my name is {name}.'.format(**about_me))"
   ]
  },
  {
   "cell_type": "markdown",
   "metadata": {},
   "source": [
    "Important: note the use of the <tt>**</tt> inside the <tt>format</tt> call."
   ]
  },
  {
   "cell_type": "markdown",
   "metadata": {},
   "source": [
    "We can iterate keys (<tt>.keys()</tt>), values (<tt>.values()</tt>) or key-value value pairs (<tt>.items()</tt>)in the dict. Here is an example of key-value pairs."
   ]
  },
  {
   "cell_type": "code",
   "execution_count": 59,
   "metadata": {
    "execution": {
     "iopub.execute_input": "2022-03-17T01:30:12.340085Z",
     "iopub.status.busy": "2022-03-17T01:30:12.339758Z",
     "iopub.status.idle": "2022-03-17T01:30:12.344056Z",
     "shell.execute_reply": "2022-03-17T01:30:12.343564Z"
    }
   },
   "outputs": [
    {
     "name": "stdout",
     "output_type": "stream",
     "text": [
      "key = name          val = Thomas\n",
      "key = age           val = 45\n",
      "key = height        val = 5'8\n",
      "key = eye_color     val = brown\n"
     ]
    }
   ],
   "source": [
    "for k, v in about_me.items():\n",
    "    print('key = {:10s}    val = {}'.format(k, v))"
   ]
  },
  {
   "cell_type": "markdown",
   "metadata": {},
   "source": [
    "To test for the presence of a key in a dict, we just ask:"
   ]
  },
  {
   "cell_type": "code",
   "execution_count": 60,
   "metadata": {
    "execution": {
     "iopub.execute_input": "2022-03-17T01:30:12.346595Z",
     "iopub.status.busy": "2022-03-17T01:30:12.346190Z",
     "iopub.status.idle": "2022-03-17T01:30:12.349361Z",
     "shell.execute_reply": "2022-03-17T01:30:12.348828Z"
    }
   },
   "outputs": [
    {
     "name": "stdout",
     "output_type": "stream",
     "text": [
      "No. 'hair_color' is NOT a key in the dict\n"
     ]
    }
   ],
   "source": [
    "if 'hair_color' in about_me:\n",
    "    print(\"Yes. 'hair_color' is a key in the dict\")\n",
    "else:\n",
    "    print(\"No. 'hair_color' is NOT a key in the dict\")"
   ]
  },
  {
   "cell_type": "markdown",
   "metadata": {},
   "source": [
    "Dictionaries can be nested, e.g."
   ]
  },
  {
   "cell_type": "code",
   "execution_count": 61,
   "metadata": {
    "execution": {
     "iopub.execute_input": "2022-03-17T01:30:12.352182Z",
     "iopub.status.busy": "2022-03-17T01:30:12.351851Z",
     "iopub.status.idle": "2022-03-17T01:30:12.355254Z",
     "shell.execute_reply": "2022-03-17T01:30:12.354741Z"
    }
   },
   "outputs": [
    {
     "name": "stdout",
     "output_type": "stream",
     "text": [
      "cerebellum\n"
     ]
    }
   ],
   "source": [
    "neurons = {\n",
    "    'purkinje cells': {\n",
    "        'location': 'cerebellum',\n",
    "        'role': 'motor movement'\n",
    "    },\n",
    "    'ca1 pyramidal cells': {\n",
    "        'location': 'hippocampus',\n",
    "        'role': 'learning and memory'\n",
    "    }\n",
    "}\n",
    "print(neurons['purkinje cells']['location'])"
   ]
  },
  {
   "cell_type": "markdown",
   "metadata": {},
   "source": [
    "## Functions"
   ]
  },
  {
   "cell_type": "markdown",
   "metadata": {},
   "source": [
    "Functions are defined with a “def” keyword in front of them, end with a colon, and the next line is indented. Indentation of 4-spaces (again, any non-zero consistent amount will do) demarcates functional blocks."
   ]
  },
  {
   "cell_type": "code",
   "execution_count": 62,
   "metadata": {
    "execution": {
     "iopub.execute_input": "2022-03-17T01:30:12.358294Z",
     "iopub.status.busy": "2022-03-17T01:30:12.357968Z",
     "iopub.status.idle": "2022-03-17T01:30:12.360546Z",
     "shell.execute_reply": "2022-03-17T01:30:12.360026Z"
    }
   },
   "outputs": [],
   "source": [
    "def print_hello():\n",
    "    print(\"Hello\")"
   ]
  },
  {
   "cell_type": "markdown",
   "metadata": {},
   "source": [
    "Now let's call our function."
   ]
  },
  {
   "cell_type": "code",
   "execution_count": 63,
   "metadata": {
    "execution": {
     "iopub.execute_input": "2022-03-17T01:30:12.362847Z",
     "iopub.status.busy": "2022-03-17T01:30:12.362592Z",
     "iopub.status.idle": "2022-03-17T01:30:12.365516Z",
     "shell.execute_reply": "2022-03-17T01:30:12.364983Z"
    }
   },
   "outputs": [
    {
     "name": "stdout",
     "output_type": "stream",
     "text": [
      "Hello\n"
     ]
    }
   ],
   "source": [
    "print_hello()"
   ]
  },
  {
   "cell_type": "markdown",
   "metadata": {},
   "source": [
    "We can also pass in an argument."
   ]
  },
  {
   "cell_type": "code",
   "execution_count": 64,
   "metadata": {
    "execution": {
     "iopub.execute_input": "2022-03-17T01:30:12.368499Z",
     "iopub.status.busy": "2022-03-17T01:30:12.368169Z",
     "iopub.status.idle": "2022-03-17T01:30:12.370740Z",
     "shell.execute_reply": "2022-03-17T01:30:12.370234Z"
    }
   },
   "outputs": [],
   "source": [
    "def my_print(the_arg):\n",
    "    print(the_arg)"
   ]
  },
  {
   "cell_type": "markdown",
   "metadata": {},
   "source": [
    "Now try passing various things to the <tt>my_print()</tt> function."
   ]
  },
  {
   "cell_type": "code",
   "execution_count": 65,
   "metadata": {
    "execution": {
     "iopub.execute_input": "2022-03-17T01:30:12.373021Z",
     "iopub.status.busy": "2022-03-17T01:30:12.372693Z",
     "iopub.status.idle": "2022-03-17T01:30:12.375484Z",
     "shell.execute_reply": "2022-03-17T01:30:12.375095Z"
    }
   },
   "outputs": [
    {
     "name": "stdout",
     "output_type": "stream",
     "text": [
      "Hello\n"
     ]
    }
   ],
   "source": [
    "my_print(\"Hello\")"
   ]
  },
  {
   "cell_type": "markdown",
   "metadata": {},
   "source": [
    "We can even make default arguments."
   ]
  },
  {
   "cell_type": "code",
   "execution_count": 66,
   "metadata": {
    "execution": {
     "iopub.execute_input": "2022-03-17T01:30:12.377780Z",
     "iopub.status.busy": "2022-03-17T01:30:12.377455Z",
     "iopub.status.idle": "2022-03-17T01:30:12.380791Z",
     "shell.execute_reply": "2022-03-17T01:30:12.380402Z"
    }
   },
   "outputs": [
    {
     "name": "stdout",
     "output_type": "stream",
     "text": [
      "Hello\n",
      "[0, 1, 2, 3]\n"
     ]
    }
   ],
   "source": [
    "def my_print(message=\"Hello\"):\n",
    "    print(message)\n",
    "\n",
    "my_print()\n",
    "my_print(list(range(4)))"
   ]
  },
  {
   "cell_type": "markdown",
   "metadata": {},
   "source": [
    "And we can also return values."
   ]
  },
  {
   "cell_type": "code",
   "execution_count": 67,
   "metadata": {
    "execution": {
     "iopub.execute_input": "2022-03-17T01:30:12.383173Z",
     "iopub.status.busy": "2022-03-17T01:30:12.382755Z",
     "iopub.status.idle": "2022-03-17T01:30:12.388243Z",
     "shell.execute_reply": "2022-03-17T01:30:12.387781Z"
    }
   },
   "outputs": [
    {
     "name": "stdout",
     "output_type": "stream",
     "text": [
      "[0, 1, 1, 2, 3]\n"
     ]
    }
   ],
   "source": [
    "def fib(n=5):\n",
    "    \"\"\"Get a Fibonacci series up to n.\"\"\"\n",
    "    a, b = 0, 1\n",
    "    series = [a]\n",
    "    while b < n:\n",
    "        a, b = b, a + b\n",
    "        series.append(a)\n",
    "    return series\n",
    "\n",
    "print(fib())"
   ]
  },
  {
   "cell_type": "markdown",
   "metadata": {},
   "source": [
    "Note the assignment line for a and b inside the while loop. That line says that a becomes the old value of b and that b becomes the old value of a plus the old value of b. The ability to calculate multiple values before assigning them allows Python to do things like swapping the values of two variables in one line while many other programming languages would require the introduction of a temporary variable.\n",
    "\n",
    "When a function begins with a string as in the above, that string is known as a doc string, and is shown whenever <tt>help</tt> is invoked on the function (this, by the way, is a way to learn more about Python's many functions):"
   ]
  },
  {
   "cell_type": "code",
   "execution_count": 68,
   "metadata": {
    "execution": {
     "iopub.execute_input": "2022-03-17T01:30:12.390562Z",
     "iopub.status.busy": "2022-03-17T01:30:12.390233Z",
     "iopub.status.idle": "2022-03-17T01:30:12.393422Z",
     "shell.execute_reply": "2022-03-17T01:30:12.392907Z"
    }
   },
   "outputs": [
    {
     "name": "stdout",
     "output_type": "stream",
     "text": [
      "Help on function fib in module __main__:\n",
      "\n",
      "fib(n=5)\n",
      "    Get a Fibonacci series up to n.\n",
      "\n"
     ]
    }
   ],
   "source": [
    "help(fib)"
   ]
  },
  {
   "cell_type": "markdown",
   "metadata": {},
   "source": [
    "You may have noticed the string beginning the <tt>fib</tt> function was triple-quoted. This enables a string to span multiple lines."
   ]
  },
  {
   "cell_type": "code",
   "execution_count": 69,
   "metadata": {
    "execution": {
     "iopub.execute_input": "2022-03-17T01:30:12.396071Z",
     "iopub.status.busy": "2022-03-17T01:30:12.395741Z",
     "iopub.status.idle": "2022-03-17T01:30:12.398585Z",
     "shell.execute_reply": "2022-03-17T01:30:12.398204Z"
    }
   },
   "outputs": [
    {
     "name": "stdout",
     "output_type": "stream",
     "text": [
      "This is the first line\n",
      "This is the second,\n",
      "and a third.\n"
     ]
    }
   ],
   "source": [
    "multi_line_str = \"\"\"This is the first line\n",
    "This is the second,\n",
    "and a third.\"\"\"\n",
    "\n",
    "print(multi_line_str)"
   ]
  },
  {
   "cell_type": "markdown",
   "metadata": {},
   "source": [
    "## Classes"
   ]
  },
  {
   "cell_type": "markdown",
   "metadata": {},
   "source": [
    "Objects are instances of a <tt>class</tt>. They are useful for encapsulating ideas, and mostly for having multiple instances of a structure. (In NEURON, for example, one might use a class to represent a neuron type and create many instances.) Usually you will have an <tt>__init__()</tt> method. Also note that every method of the class will have <tt>self</tt> as the first argument. While <tt>self</tt> has to be listed in the argument list of a class's method, you do not pass a <tt>self</tt> argument when calling any of the class’s methods; instead, you refer to those methods as <tt>self.method_name</tt>."
   ]
  },
  {
   "cell_type": "code",
   "execution_count": 70,
   "metadata": {
    "execution": {
     "iopub.execute_input": "2022-03-17T01:30:12.400935Z",
     "iopub.status.busy": "2022-03-17T01:30:12.400525Z",
     "iopub.status.idle": "2022-03-17T01:30:12.404990Z",
     "shell.execute_reply": "2022-03-17T01:30:12.404505Z"
    }
   },
   "outputs": [],
   "source": [
    "class Contact(object):\n",
    "    \"\"\"A given person for my database of friends.\"\"\"\n",
    "\n",
    "    def __init__(self, first_name=None, last_name=None, email=None, phone=None):\n",
    "        self.first_name = first_name\n",
    "        self.last_name = last_name\n",
    "        self.email = email\n",
    "        self.phone = phone\n",
    "\n",
    "    def print_info(self):\n",
    "        \"\"\"Print all of the information of this contact.\"\"\"\n",
    "        my_str = \"Contact info:\"\n",
    "        if self.first_name:\n",
    "            my_str += \" \" + self.first_name\n",
    "        if self.last_name:\n",
    "            my_str += \" \" + self.last_name\n",
    "        if self.email:\n",
    "            my_str += \" \" + self.email\n",
    "        if self.phone:\n",
    "            my_str += \" \" + self.phone\n",
    "        print(my_str)"
   ]
  },
  {
   "cell_type": "markdown",
   "metadata": {},
   "source": [
    "By convention, the first letter of a class name is capitalized. Notice in the class definition above that the object can contain fields, which are used within the class as <tt>self.field</tt>. This field can be another method in the class, or another object of another class."
   ]
  },
  {
   "cell_type": "markdown",
   "metadata": {},
   "source": [
    "Let's make a couple instances of Contact."
   ]
  },
  {
   "cell_type": "code",
   "execution_count": 71,
   "metadata": {
    "execution": {
     "iopub.execute_input": "2022-03-17T01:30:12.407334Z",
     "iopub.status.busy": "2022-03-17T01:30:12.407002Z",
     "iopub.status.idle": "2022-03-17T01:30:12.409580Z",
     "shell.execute_reply": "2022-03-17T01:30:12.409155Z"
    }
   },
   "outputs": [],
   "source": [
    "bob = Contact('Bob','Smith')\n",
    "joe = Contact(email='someone@somewhere.com')"
   ]
  },
  {
   "cell_type": "markdown",
   "metadata": {},
   "source": [
    "Notice that in the first case, if we are filling each argument, we do not need to explicitly denote “first_name” and “last_name”. However, in the second case, since “first” and “last” are omitted, the first parameter passed in would be assigned to the first_name field so we have to explicitly set it to “email”."
   ]
  },
  {
   "cell_type": "markdown",
   "metadata": {},
   "source": [
    "Let’s set a field."
   ]
  },
  {
   "cell_type": "code",
   "execution_count": 72,
   "metadata": {
    "execution": {
     "iopub.execute_input": "2022-03-17T01:30:12.411947Z",
     "iopub.status.busy": "2022-03-17T01:30:12.411620Z",
     "iopub.status.idle": "2022-03-17T01:30:12.414024Z",
     "shell.execute_reply": "2022-03-17T01:30:12.413607Z"
    }
   },
   "outputs": [],
   "source": [
    "joe.first_name = \"Joe\""
   ]
  },
  {
   "cell_type": "markdown",
   "metadata": {},
   "source": [
    "Similarly, we can retrieve fields from the object."
   ]
  },
  {
   "cell_type": "code",
   "execution_count": 73,
   "metadata": {
    "execution": {
     "iopub.execute_input": "2022-03-17T01:30:12.416336Z",
     "iopub.status.busy": "2022-03-17T01:30:12.416007Z",
     "iopub.status.idle": "2022-03-17T01:30:12.420172Z",
     "shell.execute_reply": "2022-03-17T01:30:12.419718Z"
    }
   },
   "outputs": [
    {
     "name": "stdout",
     "output_type": "stream",
     "text": [
      "Joe\n"
     ]
    }
   ],
   "source": [
    "the_name = joe.first_name\n",
    "print(the_name)"
   ]
  },
  {
   "cell_type": "markdown",
   "metadata": {},
   "source": [
    "And we call methods of the object using the format instance.method()."
   ]
  },
  {
   "cell_type": "code",
   "execution_count": 74,
   "metadata": {
    "execution": {
     "iopub.execute_input": "2022-03-17T01:30:12.422718Z",
     "iopub.status.busy": "2022-03-17T01:30:12.422355Z",
     "iopub.status.idle": "2022-03-17T01:30:12.426264Z",
     "shell.execute_reply": "2022-03-17T01:30:12.425811Z"
    }
   },
   "outputs": [
    {
     "name": "stdout",
     "output_type": "stream",
     "text": [
      "Contact info: Joe someone@somewhere.com\n"
     ]
    }
   ],
   "source": [
    "joe.print_info()"
   ]
  },
  {
   "cell_type": "markdown",
   "metadata": {},
   "source": [
    "Remember the importance of docstrings!"
   ]
  },
  {
   "cell_type": "code",
   "execution_count": 75,
   "metadata": {
    "execution": {
     "iopub.execute_input": "2022-03-17T01:30:12.428714Z",
     "iopub.status.busy": "2022-03-17T01:30:12.428466Z",
     "iopub.status.idle": "2022-03-17T01:30:12.433145Z",
     "shell.execute_reply": "2022-03-17T01:30:12.432692Z"
    }
   },
   "outputs": [
    {
     "name": "stdout",
     "output_type": "stream",
     "text": [
      "Help on class Contact in module __main__:\n",
      "\n",
      "class Contact(builtins.object)\n",
      " |  Contact(first_name=None, last_name=None, email=None, phone=None)\n",
      " |  \n",
      " |  A given person for my database of friends.\n",
      " |  \n",
      " |  Methods defined here:\n",
      " |  \n",
      " |  __init__(self, first_name=None, last_name=None, email=None, phone=None)\n",
      " |      Initialize self.  See help(type(self)) for accurate signature.\n",
      " |  \n",
      " |  print_info(self)\n",
      " |      Print all of the information of this contact.\n",
      " |  \n",
      " |  ----------------------------------------------------------------------\n",
      " |  Data descriptors defined here:\n",
      " |  \n",
      " |  __dict__\n",
      " |      dictionary for instance variables (if defined)\n",
      " |  \n",
      " |  __weakref__\n",
      " |      list of weak references to the object (if defined)\n",
      "\n"
     ]
    }
   ],
   "source": [
    "help(Contact)"
   ]
  },
  {
   "cell_type": "markdown",
   "metadata": {},
   "source": [
    "## Importing modules"
   ]
  },
  {
   "cell_type": "markdown",
   "metadata": {},
   "source": [
    "Extensions to core Python are made by importing modules, which may contain more variables, objects, methods, and functions. Many modules come with Python, but are not part of its core. Other packages and modules have to be installed.\n",
    "\n",
    "The <tt>numpy</tt> module contains a function called <tt>arange()</tt> that is similar to Python’s <tt>range()</tt> function, but permits non-integer steps."
   ]
  },
  {
   "cell_type": "code",
   "execution_count": 76,
   "metadata": {
    "execution": {
     "iopub.execute_input": "2022-03-17T01:30:12.435774Z",
     "iopub.status.busy": "2022-03-17T01:30:12.435468Z",
     "iopub.status.idle": "2022-03-17T01:30:12.488636Z",
     "shell.execute_reply": "2022-03-17T01:30:12.488241Z"
    }
   },
   "outputs": [
    {
     "name": "stdout",
     "output_type": "stream",
     "text": [
      "[0.  0.1 0.2 0.3 0.4 0.5 0.6 0.7 0.8 0.9]\n"
     ]
    }
   ],
   "source": [
    "import numpy\n",
    "my_vec = numpy.arange(0, 1, 0.1)\n",
    "print(my_vec)"
   ]
  },
  {
   "cell_type": "markdown",
   "metadata": {},
   "source": [
    "<b>Note</b>: <tt>numpy</tt> is available in many distributions of Python, but it is not part of Python itself. If the <tt>import numpy</tt> line gave an error message, you either do not have numpy installed or Python cannot find it for some reason. You should resolve this issue before proceeding because we will use numpy in some of the examples in other parts of the tutorial. The standard tool for installing Python modules is called pip; other options may be available depending on your platform."
   ]
  },
  {
   "cell_type": "markdown",
   "metadata": {},
   "source": [
    "We can get 20 evenly spaced values between 0 and $\\pi$ using <tt>numpy.linspace</tt>:"
   ]
  },
  {
   "cell_type": "code",
   "execution_count": 77,
   "metadata": {
    "execution": {
     "iopub.execute_input": "2022-03-17T01:30:12.491157Z",
     "iopub.status.busy": "2022-03-17T01:30:12.490831Z",
     "iopub.status.idle": "2022-03-17T01:30:12.493520Z",
     "shell.execute_reply": "2022-03-17T01:30:12.493108Z"
    }
   },
   "outputs": [],
   "source": [
    "x = numpy.linspace(0, numpy.pi, 20)"
   ]
  },
  {
   "cell_type": "code",
   "execution_count": 78,
   "metadata": {
    "execution": {
     "iopub.execute_input": "2022-03-17T01:30:12.495781Z",
     "iopub.status.busy": "2022-03-17T01:30:12.495470Z",
     "iopub.status.idle": "2022-03-17T01:30:12.498550Z",
     "shell.execute_reply": "2022-03-17T01:30:12.498173Z"
    }
   },
   "outputs": [
    {
     "name": "stdout",
     "output_type": "stream",
     "text": [
      "[0.         0.16534698 0.33069396 0.49604095 0.66138793 0.82673491\n",
      " 0.99208189 1.15742887 1.32277585 1.48812284 1.65346982 1.8188168\n",
      " 1.98416378 2.14951076 2.31485774 2.48020473 2.64555171 2.81089869\n",
      " 2.97624567 3.14159265]\n"
     ]
    }
   ],
   "source": [
    "print(x)"
   ]
  },
  {
   "cell_type": "markdown",
   "metadata": {},
   "source": [
    "NumPy provides vectorized trig (and other) functions. For example, we can get another array with the sines of all those x values via:"
   ]
  },
  {
   "cell_type": "code",
   "execution_count": 79,
   "metadata": {
    "execution": {
     "iopub.execute_input": "2022-03-17T01:30:12.500829Z",
     "iopub.status.busy": "2022-03-17T01:30:12.500519Z",
     "iopub.status.idle": "2022-03-17T01:30:12.502924Z",
     "shell.execute_reply": "2022-03-17T01:30:12.502528Z"
    }
   },
   "outputs": [],
   "source": [
    "y = numpy.sin(x)"
   ]
  },
  {
   "cell_type": "code",
   "execution_count": 80,
   "metadata": {
    "execution": {
     "iopub.execute_input": "2022-03-17T01:30:12.505785Z",
     "iopub.status.busy": "2022-03-17T01:30:12.504765Z",
     "iopub.status.idle": "2022-03-17T01:30:12.509847Z",
     "shell.execute_reply": "2022-03-17T01:30:12.509434Z"
    }
   },
   "outputs": [
    {
     "name": "stdout",
     "output_type": "stream",
     "text": [
      "[0.00000000e+00 1.64594590e-01 3.24699469e-01 4.75947393e-01\n",
      " 6.14212713e-01 7.35723911e-01 8.37166478e-01 9.15773327e-01\n",
      " 9.69400266e-01 9.96584493e-01 9.96584493e-01 9.69400266e-01\n",
      " 9.15773327e-01 8.37166478e-01 7.35723911e-01 6.14212713e-01\n",
      " 4.75947393e-01 3.24699469e-01 1.64594590e-01 1.22464680e-16]\n"
     ]
    }
   ],
   "source": [
    "print(y)"
   ]
  },
  {
   "cell_type": "markdown",
   "metadata": {},
   "source": [
    "The <tt>bokeh</tt> module is one way to plot graphics that works especially well in a Jupyter notebook environment. To use this library in a Jupyter notebook, we first load it and tell it to display in the notebook:"
   ]
  },
  {
   "cell_type": "code",
   "execution_count": 81,
   "metadata": {
    "execution": {
     "iopub.execute_input": "2022-03-17T01:30:12.513146Z",
     "iopub.status.busy": "2022-03-17T01:30:12.512309Z",
     "iopub.status.idle": "2022-03-17T01:30:12.918730Z",
     "shell.execute_reply": "2022-03-17T01:30:12.918220Z"
    }
   },
   "outputs": [
    {
     "data": {
      "text/html": [
       "\n",
       "    <div class=\"bk-root\">\n",
       "        <a href=\"https://bokeh.org\" target=\"_blank\" class=\"bk-logo bk-logo-small bk-logo-notebook\"></a>\n",
       "        <span id=\"1002\">Loading BokehJS ...</span>\n",
       "    </div>"
      ]
     },
     "metadata": {},
     "output_type": "display_data"
    },
    {
     "data": {
      "application/javascript": [
       "\n",
       "(function(root) {\n",
       "  function now() {\n",
       "    return new Date();\n",
       "  }\n",
       "\n",
       "  const force = true;\n",
       "\n",
       "  if (typeof root._bokeh_onload_callbacks === \"undefined\" || force === true) {\n",
       "    root._bokeh_onload_callbacks = [];\n",
       "    root._bokeh_is_loading = undefined;\n",
       "  }\n",
       "\n",
       "  const JS_MIME_TYPE = 'application/javascript';\n",
       "  const HTML_MIME_TYPE = 'text/html';\n",
       "  const EXEC_MIME_TYPE = 'application/vnd.bokehjs_exec.v0+json';\n",
       "  const CLASS_NAME = 'output_bokeh rendered_html';\n",
       "\n",
       "  /**\n",
       "   * Render data to the DOM node\n",
       "   */\n",
       "  function render(props, node) {\n",
       "    const script = document.createElement(\"script\");\n",
       "    node.appendChild(script);\n",
       "  }\n",
       "\n",
       "  /**\n",
       "   * Handle when an output is cleared or removed\n",
       "   */\n",
       "  function handleClearOutput(event, handle) {\n",
       "    const cell = handle.cell;\n",
       "\n",
       "    const id = cell.output_area._bokeh_element_id;\n",
       "    const server_id = cell.output_area._bokeh_server_id;\n",
       "    // Clean up Bokeh references\n",
       "    if (id != null && id in Bokeh.index) {\n",
       "      Bokeh.index[id].model.document.clear();\n",
       "      delete Bokeh.index[id];\n",
       "    }\n",
       "\n",
       "    if (server_id !== undefined) {\n",
       "      // Clean up Bokeh references\n",
       "      const cmd_clean = \"from bokeh.io.state import curstate; print(curstate().uuid_to_server['\" + server_id + \"'].get_sessions()[0].document.roots[0]._id)\";\n",
       "      cell.notebook.kernel.execute(cmd_clean, {\n",
       "        iopub: {\n",
       "          output: function(msg) {\n",
       "            const id = msg.content.text.trim();\n",
       "            if (id in Bokeh.index) {\n",
       "              Bokeh.index[id].model.document.clear();\n",
       "              delete Bokeh.index[id];\n",
       "            }\n",
       "          }\n",
       "        }\n",
       "      });\n",
       "      // Destroy server and session\n",
       "      const cmd_destroy = \"import bokeh.io.notebook as ion; ion.destroy_server('\" + server_id + \"')\";\n",
       "      cell.notebook.kernel.execute(cmd_destroy);\n",
       "    }\n",
       "  }\n",
       "\n",
       "  /**\n",
       "   * Handle when a new output is added\n",
       "   */\n",
       "  function handleAddOutput(event, handle) {\n",
       "    const output_area = handle.output_area;\n",
       "    const output = handle.output;\n",
       "\n",
       "    // limit handleAddOutput to display_data with EXEC_MIME_TYPE content only\n",
       "    if ((output.output_type != \"display_data\") || (!Object.prototype.hasOwnProperty.call(output.data, EXEC_MIME_TYPE))) {\n",
       "      return\n",
       "    }\n",
       "\n",
       "    const toinsert = output_area.element.find(\".\" + CLASS_NAME.split(' ')[0]);\n",
       "\n",
       "    if (output.metadata[EXEC_MIME_TYPE][\"id\"] !== undefined) {\n",
       "      toinsert[toinsert.length - 1].firstChild.textContent = output.data[JS_MIME_TYPE];\n",
       "      // store reference to embed id on output_area\n",
       "      output_area._bokeh_element_id = output.metadata[EXEC_MIME_TYPE][\"id\"];\n",
       "    }\n",
       "    if (output.metadata[EXEC_MIME_TYPE][\"server_id\"] !== undefined) {\n",
       "      const bk_div = document.createElement(\"div\");\n",
       "      bk_div.innerHTML = output.data[HTML_MIME_TYPE];\n",
       "      const script_attrs = bk_div.children[0].attributes;\n",
       "      for (let i = 0; i < script_attrs.length; i++) {\n",
       "        toinsert[toinsert.length - 1].firstChild.setAttribute(script_attrs[i].name, script_attrs[i].value);\n",
       "        toinsert[toinsert.length - 1].firstChild.textContent = bk_div.children[0].textContent\n",
       "      }\n",
       "      // store reference to server id on output_area\n",
       "      output_area._bokeh_server_id = output.metadata[EXEC_MIME_TYPE][\"server_id\"];\n",
       "    }\n",
       "  }\n",
       "\n",
       "  function register_renderer(events, OutputArea) {\n",
       "\n",
       "    function append_mime(data, metadata, element) {\n",
       "      // create a DOM node to render to\n",
       "      const toinsert = this.create_output_subarea(\n",
       "        metadata,\n",
       "        CLASS_NAME,\n",
       "        EXEC_MIME_TYPE\n",
       "      );\n",
       "      this.keyboard_manager.register_events(toinsert);\n",
       "      // Render to node\n",
       "      const props = {data: data, metadata: metadata[EXEC_MIME_TYPE]};\n",
       "      render(props, toinsert[toinsert.length - 1]);\n",
       "      element.append(toinsert);\n",
       "      return toinsert\n",
       "    }\n",
       "\n",
       "    /* Handle when an output is cleared or removed */\n",
       "    events.on('clear_output.CodeCell', handleClearOutput);\n",
       "    events.on('delete.Cell', handleClearOutput);\n",
       "\n",
       "    /* Handle when a new output is added */\n",
       "    events.on('output_added.OutputArea', handleAddOutput);\n",
       "\n",
       "    /**\n",
       "     * Register the mime type and append_mime function with output_area\n",
       "     */\n",
       "    OutputArea.prototype.register_mime_type(EXEC_MIME_TYPE, append_mime, {\n",
       "      /* Is output safe? */\n",
       "      safe: true,\n",
       "      /* Index of renderer in `output_area.display_order` */\n",
       "      index: 0\n",
       "    });\n",
       "  }\n",
       "\n",
       "  // register the mime type if in Jupyter Notebook environment and previously unregistered\n",
       "  if (root.Jupyter !== undefined) {\n",
       "    const events = require('base/js/events');\n",
       "    const OutputArea = require('notebook/js/outputarea').OutputArea;\n",
       "\n",
       "    if (OutputArea.prototype.mime_types().indexOf(EXEC_MIME_TYPE) == -1) {\n",
       "      register_renderer(events, OutputArea);\n",
       "    }\n",
       "  }\n",
       "\n",
       "  \n",
       "  if (typeof (root._bokeh_timeout) === \"undefined\" || force === true) {\n",
       "    root._bokeh_timeout = Date.now() + 5000;\n",
       "    root._bokeh_failed_load = false;\n",
       "  }\n",
       "\n",
       "  const NB_LOAD_WARNING = {'data': {'text/html':\n",
       "     \"<div style='background-color: #fdd'>\\n\"+\n",
       "     \"<p>\\n\"+\n",
       "     \"BokehJS does not appear to have successfully loaded. If loading BokehJS from CDN, this \\n\"+\n",
       "     \"may be due to a slow or bad network connection. Possible fixes:\\n\"+\n",
       "     \"</p>\\n\"+\n",
       "     \"<ul>\\n\"+\n",
       "     \"<li>re-rerun `output_notebook()` to attempt to load from CDN again, or</li>\\n\"+\n",
       "     \"<li>use INLINE resources instead, as so:</li>\\n\"+\n",
       "     \"</ul>\\n\"+\n",
       "     \"<code>\\n\"+\n",
       "     \"from bokeh.resources import INLINE\\n\"+\n",
       "     \"output_notebook(resources=INLINE)\\n\"+\n",
       "     \"</code>\\n\"+\n",
       "     \"</div>\"}};\n",
       "\n",
       "  function display_loaded() {\n",
       "    const el = document.getElementById(\"1002\");\n",
       "    if (el != null) {\n",
       "      el.textContent = \"BokehJS is loading...\";\n",
       "    }\n",
       "    if (root.Bokeh !== undefined) {\n",
       "      if (el != null) {\n",
       "        el.textContent = \"BokehJS \" + root.Bokeh.version + \" successfully loaded.\";\n",
       "      }\n",
       "    } else if (Date.now() < root._bokeh_timeout) {\n",
       "      setTimeout(display_loaded, 100)\n",
       "    }\n",
       "  }\n",
       "\n",
       "\n",
       "  function run_callbacks() {\n",
       "    try {\n",
       "      root._bokeh_onload_callbacks.forEach(function(callback) {\n",
       "        if (callback != null)\n",
       "          callback();\n",
       "      });\n",
       "    } finally {\n",
       "      delete root._bokeh_onload_callbacks\n",
       "    }\n",
       "    console.debug(\"Bokeh: all callbacks have finished\");\n",
       "  }\n",
       "\n",
       "  function load_libs(css_urls, js_urls, callback) {\n",
       "    if (css_urls == null) css_urls = [];\n",
       "    if (js_urls == null) js_urls = [];\n",
       "\n",
       "    root._bokeh_onload_callbacks.push(callback);\n",
       "    if (root._bokeh_is_loading > 0) {\n",
       "      console.debug(\"Bokeh: BokehJS is being loaded, scheduling callback at\", now());\n",
       "      return null;\n",
       "    }\n",
       "    if (js_urls == null || js_urls.length === 0) {\n",
       "      run_callbacks();\n",
       "      return null;\n",
       "    }\n",
       "    console.debug(\"Bokeh: BokehJS not loaded, scheduling load and callback at\", now());\n",
       "    root._bokeh_is_loading = css_urls.length + js_urls.length;\n",
       "\n",
       "    function on_load() {\n",
       "      root._bokeh_is_loading--;\n",
       "      if (root._bokeh_is_loading === 0) {\n",
       "        console.debug(\"Bokeh: all BokehJS libraries/stylesheets loaded\");\n",
       "        run_callbacks()\n",
       "      }\n",
       "    }\n",
       "\n",
       "    function on_error(url) {\n",
       "      console.error(\"failed to load \" + url);\n",
       "    }\n",
       "\n",
       "    for (let i = 0; i < css_urls.length; i++) {\n",
       "      const url = css_urls[i];\n",
       "      const element = document.createElement(\"link\");\n",
       "      element.onload = on_load;\n",
       "      element.onerror = on_error.bind(null, url);\n",
       "      element.rel = \"stylesheet\";\n",
       "      element.type = \"text/css\";\n",
       "      element.href = url;\n",
       "      console.debug(\"Bokeh: injecting link tag for BokehJS stylesheet: \", url);\n",
       "      document.body.appendChild(element);\n",
       "    }\n",
       "\n",
       "    for (let i = 0; i < js_urls.length; i++) {\n",
       "      const url = js_urls[i];\n",
       "      const element = document.createElement('script');\n",
       "      element.onload = on_load;\n",
       "      element.onerror = on_error.bind(null, url);\n",
       "      element.async = false;\n",
       "      element.src = url;\n",
       "      console.debug(\"Bokeh: injecting script tag for BokehJS library: \", url);\n",
       "      document.head.appendChild(element);\n",
       "    }\n",
       "  };\n",
       "\n",
       "  function inject_raw_css(css) {\n",
       "    const element = document.createElement(\"style\");\n",
       "    element.appendChild(document.createTextNode(css));\n",
       "    document.body.appendChild(element);\n",
       "  }\n",
       "\n",
       "  \n",
       "  const js_urls = [\"https://cdn.bokeh.org/bokeh/release/bokeh-2.4.2.min.js\", \"https://cdn.bokeh.org/bokeh/release/bokeh-gl-2.4.2.min.js\", \"https://cdn.bokeh.org/bokeh/release/bokeh-widgets-2.4.2.min.js\", \"https://cdn.bokeh.org/bokeh/release/bokeh-tables-2.4.2.min.js\", \"https://cdn.bokeh.org/bokeh/release/bokeh-mathjax-2.4.2.min.js\"];\n",
       "  const css_urls = [];\n",
       "  \n",
       "\n",
       "  const inline_js = [\n",
       "    function(Bokeh) {\n",
       "      Bokeh.set_log_level(\"info\");\n",
       "    },\n",
       "    function(Bokeh) {\n",
       "    \n",
       "    \n",
       "    }\n",
       "  ];\n",
       "\n",
       "  function run_inline_js() {\n",
       "    \n",
       "    if (root.Bokeh !== undefined || force === true) {\n",
       "      \n",
       "    for (let i = 0; i < inline_js.length; i++) {\n",
       "      inline_js[i].call(root, root.Bokeh);\n",
       "    }\n",
       "    if (force === true) {\n",
       "        display_loaded();\n",
       "      }} else if (Date.now() < root._bokeh_timeout) {\n",
       "      setTimeout(run_inline_js, 100);\n",
       "    } else if (!root._bokeh_failed_load) {\n",
       "      console.log(\"Bokeh: BokehJS failed to load within specified timeout.\");\n",
       "      root._bokeh_failed_load = true;\n",
       "    } else if (force !== true) {\n",
       "      const cell = $(document.getElementById(\"1002\")).parents('.cell').data().cell;\n",
       "      cell.output_area.append_execute_result(NB_LOAD_WARNING)\n",
       "    }\n",
       "\n",
       "  }\n",
       "\n",
       "  if (root._bokeh_is_loading === 0) {\n",
       "    console.debug(\"Bokeh: BokehJS loaded, going straight to plotting\");\n",
       "    run_inline_js();\n",
       "  } else {\n",
       "    load_libs(css_urls, js_urls, function() {\n",
       "      console.debug(\"Bokeh: BokehJS plotting callback run at\", now());\n",
       "      run_inline_js();\n",
       "    });\n",
       "  }\n",
       "}(window));"
      ],
      "application/vnd.bokehjs_load.v0+json": "\n(function(root) {\n  function now() {\n    return new Date();\n  }\n\n  const force = true;\n\n  if (typeof root._bokeh_onload_callbacks === \"undefined\" || force === true) {\n    root._bokeh_onload_callbacks = [];\n    root._bokeh_is_loading = undefined;\n  }\n\n  \n\n  \n  if (typeof (root._bokeh_timeout) === \"undefined\" || force === true) {\n    root._bokeh_timeout = Date.now() + 5000;\n    root._bokeh_failed_load = false;\n  }\n\n  const NB_LOAD_WARNING = {'data': {'text/html':\n     \"<div style='background-color: #fdd'>\\n\"+\n     \"<p>\\n\"+\n     \"BokehJS does not appear to have successfully loaded. If loading BokehJS from CDN, this \\n\"+\n     \"may be due to a slow or bad network connection. Possible fixes:\\n\"+\n     \"</p>\\n\"+\n     \"<ul>\\n\"+\n     \"<li>re-rerun `output_notebook()` to attempt to load from CDN again, or</li>\\n\"+\n     \"<li>use INLINE resources instead, as so:</li>\\n\"+\n     \"</ul>\\n\"+\n     \"<code>\\n\"+\n     \"from bokeh.resources import INLINE\\n\"+\n     \"output_notebook(resources=INLINE)\\n\"+\n     \"</code>\\n\"+\n     \"</div>\"}};\n\n  function display_loaded() {\n    const el = document.getElementById(\"1002\");\n    if (el != null) {\n      el.textContent = \"BokehJS is loading...\";\n    }\n    if (root.Bokeh !== undefined) {\n      if (el != null) {\n        el.textContent = \"BokehJS \" + root.Bokeh.version + \" successfully loaded.\";\n      }\n    } else if (Date.now() < root._bokeh_timeout) {\n      setTimeout(display_loaded, 100)\n    }\n  }\n\n\n  function run_callbacks() {\n    try {\n      root._bokeh_onload_callbacks.forEach(function(callback) {\n        if (callback != null)\n          callback();\n      });\n    } finally {\n      delete root._bokeh_onload_callbacks\n    }\n    console.debug(\"Bokeh: all callbacks have finished\");\n  }\n\n  function load_libs(css_urls, js_urls, callback) {\n    if (css_urls == null) css_urls = [];\n    if (js_urls == null) js_urls = [];\n\n    root._bokeh_onload_callbacks.push(callback);\n    if (root._bokeh_is_loading > 0) {\n      console.debug(\"Bokeh: BokehJS is being loaded, scheduling callback at\", now());\n      return null;\n    }\n    if (js_urls == null || js_urls.length === 0) {\n      run_callbacks();\n      return null;\n    }\n    console.debug(\"Bokeh: BokehJS not loaded, scheduling load and callback at\", now());\n    root._bokeh_is_loading = css_urls.length + js_urls.length;\n\n    function on_load() {\n      root._bokeh_is_loading--;\n      if (root._bokeh_is_loading === 0) {\n        console.debug(\"Bokeh: all BokehJS libraries/stylesheets loaded\");\n        run_callbacks()\n      }\n    }\n\n    function on_error(url) {\n      console.error(\"failed to load \" + url);\n    }\n\n    for (let i = 0; i < css_urls.length; i++) {\n      const url = css_urls[i];\n      const element = document.createElement(\"link\");\n      element.onload = on_load;\n      element.onerror = on_error.bind(null, url);\n      element.rel = \"stylesheet\";\n      element.type = \"text/css\";\n      element.href = url;\n      console.debug(\"Bokeh: injecting link tag for BokehJS stylesheet: \", url);\n      document.body.appendChild(element);\n    }\n\n    for (let i = 0; i < js_urls.length; i++) {\n      const url = js_urls[i];\n      const element = document.createElement('script');\n      element.onload = on_load;\n      element.onerror = on_error.bind(null, url);\n      element.async = false;\n      element.src = url;\n      console.debug(\"Bokeh: injecting script tag for BokehJS library: \", url);\n      document.head.appendChild(element);\n    }\n  };\n\n  function inject_raw_css(css) {\n    const element = document.createElement(\"style\");\n    element.appendChild(document.createTextNode(css));\n    document.body.appendChild(element);\n  }\n\n  \n  const js_urls = [\"https://cdn.bokeh.org/bokeh/release/bokeh-2.4.2.min.js\", \"https://cdn.bokeh.org/bokeh/release/bokeh-gl-2.4.2.min.js\", \"https://cdn.bokeh.org/bokeh/release/bokeh-widgets-2.4.2.min.js\", \"https://cdn.bokeh.org/bokeh/release/bokeh-tables-2.4.2.min.js\", \"https://cdn.bokeh.org/bokeh/release/bokeh-mathjax-2.4.2.min.js\"];\n  const css_urls = [];\n  \n\n  const inline_js = [\n    function(Bokeh) {\n      Bokeh.set_log_level(\"info\");\n    },\n    function(Bokeh) {\n    \n    \n    }\n  ];\n\n  function run_inline_js() {\n    \n    if (root.Bokeh !== undefined || force === true) {\n      \n    for (let i = 0; i < inline_js.length; i++) {\n      inline_js[i].call(root, root.Bokeh);\n    }\n    if (force === true) {\n        display_loaded();\n      }} else if (Date.now() < root._bokeh_timeout) {\n      setTimeout(run_inline_js, 100);\n    } else if (!root._bokeh_failed_load) {\n      console.log(\"Bokeh: BokehJS failed to load within specified timeout.\");\n      root._bokeh_failed_load = true;\n    } else if (force !== true) {\n      const cell = $(document.getElementById(\"1002\")).parents('.cell').data().cell;\n      cell.output_area.append_execute_result(NB_LOAD_WARNING)\n    }\n\n  }\n\n  if (root._bokeh_is_loading === 0) {\n    console.debug(\"Bokeh: BokehJS loaded, going straight to plotting\");\n    run_inline_js();\n  } else {\n    load_libs(css_urls, js_urls, function() {\n      console.debug(\"Bokeh: BokehJS plotting callback run at\", now());\n      run_inline_js();\n    });\n  }\n}(window));"
     },
     "metadata": {},
     "output_type": "display_data"
    }
   ],
   "source": [
    "from bokeh.io import output_notebook\n",
    "import bokeh.plotting as plt\n",
    "output_notebook()                     # skip this line if not working in Jupyter"
   ]
  },
  {
   "cell_type": "markdown",
   "metadata": {},
   "source": [
    "Here we plot y = sin(x) vs x:"
   ]
  },
  {
   "cell_type": "code",
   "execution_count": 82,
   "metadata": {
    "execution": {
     "iopub.execute_input": "2022-03-17T01:30:12.921631Z",
     "iopub.status.busy": "2022-03-17T01:30:12.921459Z",
     "iopub.status.idle": "2022-03-17T01:30:12.963336Z",
     "shell.execute_reply": "2022-03-17T01:30:12.962866Z"
    }
   },
   "outputs": [
    {
     "data": {
      "text/html": [
       "\n",
       "\n",
       "\n",
       "\n",
       "\n",
       "\n",
       "  <div class=\"bk-root\" id=\"275eba0e-bae0-49e6-a8b2-70ad153b0ccb\" data-root-id=\"1003\"></div>\n"
      ]
     },
     "metadata": {},
     "output_type": "display_data"
    },
    {
     "data": {
      "application/javascript": [
       "(function(root) {\n",
       "  function embed_document(root) {\n",
       "    \n",
       "  const docs_json = {\"f824778c-3c5a-4dc6-9c53-8b20bae55785\":{\"defs\":[],\"roots\":{\"references\":[{\"attributes\":{\"below\":[{\"id\":\"1012\"}],\"center\":[{\"id\":\"1015\"},{\"id\":\"1019\"}],\"left\":[{\"id\":\"1016\"}],\"renderers\":[{\"id\":\"1038\"}],\"title\":{\"id\":\"1040\"},\"toolbar\":{\"id\":\"1027\"},\"x_range\":{\"id\":\"1004\"},\"x_scale\":{\"id\":\"1008\"},\"y_range\":{\"id\":\"1006\"},\"y_scale\":{\"id\":\"1010\"}},\"id\":\"1003\",\"subtype\":\"Figure\",\"type\":\"Plot\"},{\"attributes\":{},\"id\":\"1013\",\"type\":\"BasicTicker\"},{\"attributes\":{\"bottom_units\":\"screen\",\"coordinates\":null,\"fill_alpha\":0.5,\"fill_color\":\"lightgrey\",\"group\":null,\"left_units\":\"screen\",\"level\":\"overlay\",\"line_alpha\":1.0,\"line_color\":\"black\",\"line_dash\":[4,4],\"line_width\":2,\"right_units\":\"screen\",\"syncable\":false,\"top_units\":\"screen\"},\"id\":\"1026\",\"type\":\"BoxAnnotation\"},{\"attributes\":{\"data\":{\"x\":{\"__ndarray__\":\"AAAAAAAAAAAvupcDFyrFPy+6lwMXKtU/RpdjhSK/3z8vupcDFyrlP7uofcScdOo/RpdjhSK/7z/pwiQj1ITyPy+6lwMXKvU/dbEK5FnP9z+7qH3EnHT6PwGg8KTfGf0/RpdjhSK//z9GR+uyMjIBQOnCJCPUhAJAjD5ek3XXA0AvupcDFyoFQNI10XO4fAZAdbEK5FnPB0AYLURU+yEJQA==\",\"dtype\":\"float64\",\"order\":\"little\",\"shape\":[20]},\"y\":{\"__ndarray__\":\"AAAAAAAAAADFWC1/bxHFP6rPUEjgx9Q/7HvtDex13j8iRDlroafjPxA+594Mi+c/5D2uWhHK6j8HCxHdA07tPxou3rRTBe8/qUKlKQXk7z+qQqUpBeTvPxou3rRTBe8/CQsR3QNO7T/mPa5aEcrqPxE+594Mi+c/JEQ5a6Gn4z/we+0N7HXeP63PUEjgx9Q/ylgtf28RxT8HXBQzJqahPA==\",\"dtype\":\"float64\",\"order\":\"little\",\"shape\":[20]}},\"selected\":{\"id\":\"1049\"},\"selection_policy\":{\"id\":\"1048\"}},\"id\":\"1034\",\"type\":\"ColumnDataSource\"},{\"attributes\":{},\"id\":\"1010\",\"type\":\"LinearScale\"},{\"attributes\":{\"axis_label\":\"x\",\"coordinates\":null,\"formatter\":{\"id\":\"1046\"},\"group\":null,\"major_label_policy\":{\"id\":\"1047\"},\"ticker\":{\"id\":\"1013\"}},\"id\":\"1012\",\"type\":\"LinearAxis\"},{\"attributes\":{},\"id\":\"1049\",\"type\":\"Selection\"},{\"attributes\":{},\"id\":\"1048\",\"type\":\"UnionRenderers\"},{\"attributes\":{\"coordinates\":null,\"data_source\":{\"id\":\"1034\"},\"glyph\":{\"id\":\"1035\"},\"group\":null,\"hover_glyph\":null,\"muted_glyph\":{\"id\":\"1037\"},\"nonselection_glyph\":{\"id\":\"1036\"},\"view\":{\"id\":\"1039\"}},\"id\":\"1038\",\"type\":\"GlyphRenderer\"},{\"attributes\":{},\"id\":\"1024\",\"type\":\"ResetTool\"},{\"attributes\":{\"coordinates\":null,\"group\":null},\"id\":\"1040\",\"type\":\"Title\"},{\"attributes\":{},\"id\":\"1023\",\"type\":\"SaveTool\"},{\"attributes\":{\"overlay\":{\"id\":\"1026\"}},\"id\":\"1022\",\"type\":\"BoxZoomTool\"},{\"attributes\":{},\"id\":\"1020\",\"type\":\"PanTool\"},{\"attributes\":{},\"id\":\"1025\",\"type\":\"HelpTool\"},{\"attributes\":{},\"id\":\"1017\",\"type\":\"BasicTicker\"},{\"attributes\":{\"axis\":{\"id\":\"1016\"},\"coordinates\":null,\"dimension\":1,\"group\":null,\"ticker\":null},\"id\":\"1019\",\"type\":\"Grid\"},{\"attributes\":{},\"id\":\"1047\",\"type\":\"AllLabels\"},{\"attributes\":{\"line_alpha\":0.2,\"line_color\":\"#1f77b4\",\"line_width\":2,\"x\":{\"field\":\"x\"},\"y\":{\"field\":\"y\"}},\"id\":\"1037\",\"type\":\"Line\"},{\"attributes\":{\"axis_label\":\"sin(x)\",\"coordinates\":null,\"formatter\":{\"id\":\"1043\"},\"group\":null,\"major_label_policy\":{\"id\":\"1044\"},\"ticker\":{\"id\":\"1017\"}},\"id\":\"1016\",\"type\":\"LinearAxis\"},{\"attributes\":{},\"id\":\"1046\",\"type\":\"BasicTickFormatter\"},{\"attributes\":{\"line_alpha\":0.1,\"line_color\":\"#1f77b4\",\"line_width\":2,\"x\":{\"field\":\"x\"},\"y\":{\"field\":\"y\"}},\"id\":\"1036\",\"type\":\"Line\"},{\"attributes\":{},\"id\":\"1044\",\"type\":\"AllLabels\"},{\"attributes\":{},\"id\":\"1006\",\"type\":\"DataRange1d\"},{\"attributes\":{\"tools\":[{\"id\":\"1020\"},{\"id\":\"1021\"},{\"id\":\"1022\"},{\"id\":\"1023\"},{\"id\":\"1024\"},{\"id\":\"1025\"}]},\"id\":\"1027\",\"type\":\"Toolbar\"},{\"attributes\":{},\"id\":\"1004\",\"type\":\"DataRange1d\"},{\"attributes\":{},\"id\":\"1043\",\"type\":\"BasicTickFormatter\"},{\"attributes\":{},\"id\":\"1008\",\"type\":\"LinearScale\"},{\"attributes\":{\"line_color\":\"#1f77b4\",\"line_width\":2,\"x\":{\"field\":\"x\"},\"y\":{\"field\":\"y\"}},\"id\":\"1035\",\"type\":\"Line\"},{\"attributes\":{},\"id\":\"1021\",\"type\":\"WheelZoomTool\"},{\"attributes\":{\"source\":{\"id\":\"1034\"}},\"id\":\"1039\",\"type\":\"CDSView\"},{\"attributes\":{\"axis\":{\"id\":\"1012\"},\"coordinates\":null,\"group\":null,\"ticker\":null},\"id\":\"1015\",\"type\":\"Grid\"}],\"root_ids\":[\"1003\"]},\"title\":\"Bokeh Application\",\"version\":\"2.4.2\"}};\n",
       "  const render_items = [{\"docid\":\"f824778c-3c5a-4dc6-9c53-8b20bae55785\",\"root_ids\":[\"1003\"],\"roots\":{\"1003\":\"275eba0e-bae0-49e6-a8b2-70ad153b0ccb\"}}];\n",
       "  root.Bokeh.embed.embed_items_notebook(docs_json, render_items);\n",
       "\n",
       "  }\n",
       "  if (root.Bokeh !== undefined) {\n",
       "    embed_document(root);\n",
       "  } else {\n",
       "    let attempts = 0;\n",
       "    const timer = setInterval(function(root) {\n",
       "      if (root.Bokeh !== undefined) {\n",
       "        clearInterval(timer);\n",
       "        embed_document(root);\n",
       "      } else {\n",
       "        attempts++;\n",
       "        if (attempts > 100) {\n",
       "          clearInterval(timer);\n",
       "          console.log(\"Bokeh: ERROR: Unable to run BokehJS code because BokehJS library is missing\");\n",
       "        }\n",
       "      }\n",
       "    }, 10, root)\n",
       "  }\n",
       "})(window);"
      ],
      "application/vnd.bokehjs_exec.v0+json": ""
     },
     "metadata": {
      "application/vnd.bokehjs_exec.v0+json": {
       "id": "1003"
      }
     },
     "output_type": "display_data"
    }
   ],
   "source": [
    "f = plt.figure(x_axis_label='x', y_axis_label='sin(x)')\n",
    "f.line(x, y, line_width=2)\n",
    "plt.show(f)"
   ]
  },
  {
   "cell_type": "markdown",
   "metadata": {},
   "source": [
    "## Pickling objects"
   ]
  },
  {
   "cell_type": "markdown",
   "metadata": {},
   "source": [
    "There are various file io operations in Python, but one of the easiest is “<a class=\"reference external\" href=\"https://docs.python.org/3/library/pickle.html#module-pickle\" title=\"(in Python v3.6)\"><code class=\"xref py py-mod docutils literal\"><span class=\"pre\">Pickling</span></code></a>”, which attempts to save a Python object to a file for later restoration with the load command."
   ]
  },
  {
   "cell_type": "code",
   "execution_count": 83,
   "metadata": {
    "execution": {
     "iopub.execute_input": "2022-03-17T01:30:12.966133Z",
     "iopub.status.busy": "2022-03-17T01:30:12.965780Z",
     "iopub.status.idle": "2022-03-17T01:30:12.971600Z",
     "shell.execute_reply": "2022-03-17T01:30:12.971136Z"
    }
   },
   "outputs": [
    {
     "name": "stdout",
     "output_type": "stream",
     "text": [
      "Contact info: Joe someone@somewhere.com\n",
      "Contact info: Bob Smith\n"
     ]
    }
   ],
   "source": [
    "import pickle\n",
    "contacts = [joe, bob] # Make a list of contacts\n",
    "\n",
    "with open('contacts.p', 'wb') as pickle_file: # Make a new file\n",
    "    pickle.dump(contacts, pickle_file)       # Write contact list\n",
    "\n",
    "with open('contacts.p', 'rb') as pickle_file: # Open the file for reading\n",
    "    contacts2 = pickle.load(pickle_file)     # Load the pickled contents\n",
    "\n",
    "for elem in contacts2:\n",
    "    elem.print_info()"
   ]
  },
  {
   "cell_type": "markdown",
   "metadata": {},
   "source": [
    "The next part of this tutorial introduces basic NEURON commands."
   ]
  },
  {
   "cell_type": "code",
   "execution_count": null,
   "metadata": {},
   "outputs": [],
   "source": []
  }
 ],
 "metadata": {
  "language_info": {
   "codemirror_mode": {
    "name": "ipython",
    "version": 3
   },
   "file_extension": ".py",
   "mimetype": "text/x-python",
   "name": "python",
   "nbconvert_exporter": "python",
   "pygments_lexer": "ipython3",
   "version": "3.10.2"
  }
 },
 "nbformat": 4,
 "nbformat_minor": 2
}
